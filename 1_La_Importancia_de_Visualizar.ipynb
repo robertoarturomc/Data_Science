{
  "nbformat": 4,
  "nbformat_minor": 0,
  "metadata": {
    "colab": {
      "provenance": [],
      "authorship_tag": "ABX9TyNf9cYxuyWoyd/f9wY72A9O",
      "include_colab_link": true
    },
    "kernelspec": {
      "name": "python3",
      "display_name": "Python 3"
    },
    "language_info": {
      "name": "python"
    }
  },
  "cells": [
    {
      "cell_type": "markdown",
      "metadata": {
        "id": "view-in-github",
        "colab_type": "text"
      },
      "source": [
        "<a href=\"https://colab.research.google.com/github/robertoarturomc/Data_Science/blob/master/1_La_Importancia_de_Visualizar.ipynb\" target=\"_parent\"><img src=\"https://colab.research.google.com/assets/colab-badge.svg\" alt=\"Open In Colab\"/></a>"
      ]
    },
    {
      "cell_type": "markdown",
      "source": [
        "\n",
        "# 1. La importancia de Visualizar\n",
        "\n",
        "Podemos hacer analisis muy poderosos y profundos. Podemos usar las herramientas tecnologicas mas avanzadas del mercado, pero siempre habran veces en las que una buena visualizacion nos dara una ventaja.\n",
        "\n",
        "Hoy aprenderas a usar el paquete `matplotlib` en Python, y veras un caso muy famoso donde crear graficas nos resulta de ayuda.\n"
      ],
      "metadata": {
        "id": "G1WYbk-V7in7"
      }
    },
    {
      "cell_type": "code",
      "execution_count": 9,
      "metadata": {
        "id": "OBAUhm4M7Jtw"
      },
      "outputs": [],
      "source": [
        "import seaborn as sns # Usaremos esta libreria mas adelante, pero de momento, solo la usaremos para cargar datasets.\n",
        "import pandas as pd\n",
        "import numpy as np\n",
        "import matplotlib.pyplot as plt  # \"plt\"es el alias estandar."
      ]
    },
    {
      "cell_type": "code",
      "source": [
        "df = sns.load_dataset(\"anscombe\")\n",
        "df.head()"
      ],
      "metadata": {
        "colab": {
          "base_uri": "https://localhost:8080/",
          "height": 206
        },
        "id": "laYF8UCX9FPA",
        "outputId": "02f82b2b-15dd-4b28-9fb5-258c197ad47c"
      },
      "execution_count": 10,
      "outputs": [
        {
          "output_type": "execute_result",
          "data": {
            "text/plain": [
              "  dataset     x     y\n",
              "0       I  10.0  8.04\n",
              "1       I   8.0  6.95\n",
              "2       I  13.0  7.58\n",
              "3       I   9.0  8.81\n",
              "4       I  11.0  8.33"
            ],
            "text/html": [
              "\n",
              "  <div id=\"df-54a442ac-7c7b-4810-94b4-15cfafd1c6c9\">\n",
              "    <div class=\"colab-df-container\">\n",
              "      <div>\n",
              "<style scoped>\n",
              "    .dataframe tbody tr th:only-of-type {\n",
              "        vertical-align: middle;\n",
              "    }\n",
              "\n",
              "    .dataframe tbody tr th {\n",
              "        vertical-align: top;\n",
              "    }\n",
              "\n",
              "    .dataframe thead th {\n",
              "        text-align: right;\n",
              "    }\n",
              "</style>\n",
              "<table border=\"1\" class=\"dataframe\">\n",
              "  <thead>\n",
              "    <tr style=\"text-align: right;\">\n",
              "      <th></th>\n",
              "      <th>dataset</th>\n",
              "      <th>x</th>\n",
              "      <th>y</th>\n",
              "    </tr>\n",
              "  </thead>\n",
              "  <tbody>\n",
              "    <tr>\n",
              "      <th>0</th>\n",
              "      <td>I</td>\n",
              "      <td>10.0</td>\n",
              "      <td>8.04</td>\n",
              "    </tr>\n",
              "    <tr>\n",
              "      <th>1</th>\n",
              "      <td>I</td>\n",
              "      <td>8.0</td>\n",
              "      <td>6.95</td>\n",
              "    </tr>\n",
              "    <tr>\n",
              "      <th>2</th>\n",
              "      <td>I</td>\n",
              "      <td>13.0</td>\n",
              "      <td>7.58</td>\n",
              "    </tr>\n",
              "    <tr>\n",
              "      <th>3</th>\n",
              "      <td>I</td>\n",
              "      <td>9.0</td>\n",
              "      <td>8.81</td>\n",
              "    </tr>\n",
              "    <tr>\n",
              "      <th>4</th>\n",
              "      <td>I</td>\n",
              "      <td>11.0</td>\n",
              "      <td>8.33</td>\n",
              "    </tr>\n",
              "  </tbody>\n",
              "</table>\n",
              "</div>\n",
              "      <button class=\"colab-df-convert\" onclick=\"convertToInteractive('df-54a442ac-7c7b-4810-94b4-15cfafd1c6c9')\"\n",
              "              title=\"Convert this dataframe to an interactive table.\"\n",
              "              style=\"display:none;\">\n",
              "        \n",
              "  <svg xmlns=\"http://www.w3.org/2000/svg\" height=\"24px\"viewBox=\"0 0 24 24\"\n",
              "       width=\"24px\">\n",
              "    <path d=\"M0 0h24v24H0V0z\" fill=\"none\"/>\n",
              "    <path d=\"M18.56 5.44l.94 2.06.94-2.06 2.06-.94-2.06-.94-.94-2.06-.94 2.06-2.06.94zm-11 1L8.5 8.5l.94-2.06 2.06-.94-2.06-.94L8.5 2.5l-.94 2.06-2.06.94zm10 10l.94 2.06.94-2.06 2.06-.94-2.06-.94-.94-2.06-.94 2.06-2.06.94z\"/><path d=\"M17.41 7.96l-1.37-1.37c-.4-.4-.92-.59-1.43-.59-.52 0-1.04.2-1.43.59L10.3 9.45l-7.72 7.72c-.78.78-.78 2.05 0 2.83L4 21.41c.39.39.9.59 1.41.59.51 0 1.02-.2 1.41-.59l7.78-7.78 2.81-2.81c.8-.78.8-2.07 0-2.86zM5.41 20L4 18.59l7.72-7.72 1.47 1.35L5.41 20z\"/>\n",
              "  </svg>\n",
              "      </button>\n",
              "      \n",
              "  <style>\n",
              "    .colab-df-container {\n",
              "      display:flex;\n",
              "      flex-wrap:wrap;\n",
              "      gap: 12px;\n",
              "    }\n",
              "\n",
              "    .colab-df-convert {\n",
              "      background-color: #E8F0FE;\n",
              "      border: none;\n",
              "      border-radius: 50%;\n",
              "      cursor: pointer;\n",
              "      display: none;\n",
              "      fill: #1967D2;\n",
              "      height: 32px;\n",
              "      padding: 0 0 0 0;\n",
              "      width: 32px;\n",
              "    }\n",
              "\n",
              "    .colab-df-convert:hover {\n",
              "      background-color: #E2EBFA;\n",
              "      box-shadow: 0px 1px 2px rgba(60, 64, 67, 0.3), 0px 1px 3px 1px rgba(60, 64, 67, 0.15);\n",
              "      fill: #174EA6;\n",
              "    }\n",
              "\n",
              "    [theme=dark] .colab-df-convert {\n",
              "      background-color: #3B4455;\n",
              "      fill: #D2E3FC;\n",
              "    }\n",
              "\n",
              "    [theme=dark] .colab-df-convert:hover {\n",
              "      background-color: #434B5C;\n",
              "      box-shadow: 0px 1px 3px 1px rgba(0, 0, 0, 0.15);\n",
              "      filter: drop-shadow(0px 1px 2px rgba(0, 0, 0, 0.3));\n",
              "      fill: #FFFFFF;\n",
              "    }\n",
              "  </style>\n",
              "\n",
              "      <script>\n",
              "        const buttonEl =\n",
              "          document.querySelector('#df-54a442ac-7c7b-4810-94b4-15cfafd1c6c9 button.colab-df-convert');\n",
              "        buttonEl.style.display =\n",
              "          google.colab.kernel.accessAllowed ? 'block' : 'none';\n",
              "\n",
              "        async function convertToInteractive(key) {\n",
              "          const element = document.querySelector('#df-54a442ac-7c7b-4810-94b4-15cfafd1c6c9');\n",
              "          const dataTable =\n",
              "            await google.colab.kernel.invokeFunction('convertToInteractive',\n",
              "                                                     [key], {});\n",
              "          if (!dataTable) return;\n",
              "\n",
              "          const docLinkHtml = 'Like what you see? Visit the ' +\n",
              "            '<a target=\"_blank\" href=https://colab.research.google.com/notebooks/data_table.ipynb>data table notebook</a>'\n",
              "            + ' to learn more about interactive tables.';\n",
              "          element.innerHTML = '';\n",
              "          dataTable['output_type'] = 'display_data';\n",
              "          await google.colab.output.renderOutput(dataTable, element);\n",
              "          const docLink = document.createElement('div');\n",
              "          docLink.innerHTML = docLinkHtml;\n",
              "          element.appendChild(docLink);\n",
              "        }\n",
              "      </script>\n",
              "    </div>\n",
              "  </div>\n",
              "  "
            ]
          },
          "metadata": {},
          "execution_count": 10
        }
      ]
    },
    {
      "cell_type": "markdown",
      "source": [
        "Vamos a ver cuantos valores unicos de \"dataset\" existen"
      ],
      "metadata": {
        "id": "1_Jsfm-Q9bj9"
      }
    },
    {
      "cell_type": "code",
      "source": [
        "df.dataset.unique()"
      ],
      "metadata": {
        "colab": {
          "base_uri": "https://localhost:8080/"
        },
        "id": "XpHaIiFh9LVq",
        "outputId": "b580f7e9-58f5-4266-b641-76de2f6bdc8e"
      },
      "execution_count": 11,
      "outputs": [
        {
          "output_type": "execute_result",
          "data": {
            "text/plain": [
              "array(['I', 'II', 'III', 'IV'], dtype=object)"
            ]
          },
          "metadata": {},
          "execution_count": 11
        }
      ]
    },
    {
      "cell_type": "markdown",
      "source": [
        "Nuestro dataFrame incluye cuatro datasets. Crearemos cuatro dataframes, uno para cada valor distinto de `dataset`."
      ],
      "metadata": {
        "id": "K-VRdHR49lN8"
      }
    },
    {
      "cell_type": "code",
      "source": [
        "df_i = df.loc[ df[\"dataset\"]==\"I\" , [\"x\", \"y\"]]\n",
        "df_ii = df.loc[ df[\"dataset\"]==\"II\" , [\"x\", \"y\"]]\n",
        "df_iii = df.loc[ df[\"dataset\"]==\"III\" , [\"x\", \"y\"]]\n",
        "df_iv = df.loc[ df[\"dataset\"]==\"IV\" , [\"x\", \"y\"]]"
      ],
      "metadata": {
        "id": "7yyeYPUo9UbQ"
      },
      "execution_count": 12,
      "outputs": []
    },
    {
      "cell_type": "markdown",
      "source": [
        "### 1. Calcula la media de los valores de **X** y **Y** para cada dataset. Imprime los resultados."
      ],
      "metadata": {
        "id": "N8b_Bg9E-h5G"
      }
    },
    {
      "cell_type": "code",
      "source": [],
      "metadata": {
        "id": "85yM4DA_-sCM"
      },
      "execution_count": 12,
      "outputs": []
    },
    {
      "cell_type": "markdown",
      "source": [
        "### 2. Calcula la varianza de los valores de **X** y **Y** para cada dataset. Imprime los resultados."
      ],
      "metadata": {
        "id": "WDcIHzNe-vQK"
      }
    },
    {
      "cell_type": "code",
      "source": [],
      "metadata": {
        "id": "_YTjj9LL-siK"
      },
      "execution_count": 12,
      "outputs": []
    },
    {
      "cell_type": "markdown",
      "source": [
        "### 3. Calcula la correlacion de Pearson entre X y Y de cada dataset. Imprime los resultados."
      ],
      "metadata": {
        "id": "S2pP8uj1-5at"
      }
    },
    {
      "cell_type": "code",
      "source": [],
      "metadata": {
        "id": "U-BKmbqa-4ip"
      },
      "execution_count": 12,
      "outputs": []
    },
    {
      "cell_type": "markdown",
      "source": [
        "Si lo hiciste bien, notaras algo...¡los cuatro datasets tienen metricas similares! ¿Sera que, en realidad, los datasets son similares? Vamos a probar graficando los puntos, para confirmarlo.\n",
        "\n",
        "## ¿Cómo funciona Matplotlib, para generar gráficos?\n",
        "\n",
        "Para cada una, podemos definir tres pasos:\n",
        "\n",
        "1. Ocupar una función de la librería para indicar *qué* tipo de gráfico quiero mostrar, y con *qué* datos.\n",
        "2. (Opcional) Agregar una o mas funciones que agreguen elementos o modifiquen mi gráfica.\n",
        "3. Usar plt.show() para imprimir mi gráfico (en un Notebook), u otra funcion similar para guardarla.\n",
        "\n",
        "El paso 3. es importante para \"cerrar\", es decir, generar el gráfico con los elementos especificados anteriormente, y borrar nuestro lienzo, antes de empezar con la siguiente gráfica.\n",
        "\n",
        "Por ejemplo:"
      ],
      "metadata": {
        "id": "OJPN42V-_Bul"
      }
    },
    {
      "cell_type": "code",
      "source": [
        "plt.scatter(df_i[\"x\"], df_i[\"y\"])  # scatter me genera un grafico de puntos.\n",
        "plt.show()"
      ],
      "metadata": {
        "colab": {
          "base_uri": "https://localhost:8080/",
          "height": 265
        },
        "id": "ruNqRwdw_ljW",
        "outputId": "2eed65af-4d7a-4c03-fb49-af7a1f43a7cf"
      },
      "execution_count": 17,
      "outputs": [
        {
          "output_type": "display_data",
          "data": {
            "text/plain": [
              "<Figure size 432x288 with 1 Axes>"
            ],
            "image/png": "[encoded data removed]"
          },
          "metadata": {
            "needs_background": "light"
          }
        }
      ]
    },
    {
      "cell_type": "markdown",
      "source": [
        "### 4. Genera las graficas de los otros datasets."
      ],
      "metadata": {
        "id": "zz3QtPxtDDh0"
      }
    },
    {
      "cell_type": "code",
      "source": [],
      "metadata": {
        "id": "MikciXh7Btmm"
      },
      "execution_count": null,
      "outputs": []
    }
  ]
}