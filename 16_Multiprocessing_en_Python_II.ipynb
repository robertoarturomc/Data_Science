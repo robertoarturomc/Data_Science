{
  "nbformat": 4,
  "nbformat_minor": 0,
  "metadata": {
    "colab": {
      "provenance": [],
      "include_colab_link": true
    },
    "kernelspec": {
      "name": "python3",
      "display_name": "Python 3"
    },
    "language_info": {
      "name": "python"
    }
  },
  "cells": [
    {
      "cell_type": "markdown",
      "metadata": {
        "id": "view-in-github",
        "colab_type": "text"
      },
      "source": [
        "<a href=\"https://colab.research.google.com/github/robertoarturomc/Data_Science/blob/master/16_Multiprocessing_en_Python_II.ipynb\" target=\"_parent\"><img src=\"https://colab.research.google.com/assets/colab-badge.svg\" alt=\"Open In Colab\"/></a>"
      ]
    },
    {
      "cell_type": "markdown",
      "source": [
        "### Programación Concurrente\n",
        "## 16. Multiprocessing en Python II\n",
        "\n",
        "¿Qué sucede si necesitamos crear varios procesos para manejar tareas que consumen más CPU? ¿Siempre debemos iniciar y esperar explícitamente a que finalicen? La solución aquí es usar la clase `Pool`.\n",
        "\n",
        "\n",
        "\n"
      ],
      "metadata": {
        "id": "8UQAJS17EEaI"
      }
    },
    {
      "cell_type": "code",
      "source": [
        "import multiprocessing\n",
        "import time\n",
        "import math"
      ],
      "metadata": {
        "id": "2b5_GIwL8CzY"
      },
      "execution_count": 4,
      "outputs": []
    },
    {
      "cell_type": "code",
      "source": [
        "# ¿Qué pasa si queremos calcular los cubos de todos los números, del 1 al 5,000,000?\n",
        "\n",
        "N = 5000000\n",
        "\n",
        "def cube(x):\n",
        "    return math.sqrt(x)\n",
        "\n",
        "with multiprocessing.Pool() as pool:\n",
        "  result = pool.map(cube, range(10,N))\n",
        "  print(\"¡Programa Terminado!\")"
      ],
      "metadata": {
        "colab": {
          "base_uri": "https://localhost:8080/"
        },
        "id": "mbrisgds8IMf",
        "outputId": "993e8df2-226c-415e-afdb-61b7d62d5e9c"
      },
      "execution_count": 8,
      "outputs": [
        {
          "output_type": "stream",
          "name": "stdout",
          "text": [
            "¡Programa Terminado!\n"
          ]
        }
      ]
    },
    {
      "cell_type": "markdown",
      "source": [
        "Repitámoslo de nuevo; primero de manera Secuencial y de manera Concurrente con Multiprocesos (usando Pool)."
      ],
      "metadata": {
        "id": "EbQzLj0-9Veo"
      }
    },
    {
      "cell_type": "code",
      "source": [
        "start = time.time()\n",
        "\n",
        "for i in range(1, N):\n",
        "  cube(i)\n",
        "\n",
        "print(\"Programa Secuencial Terminado\")\n",
        "\n",
        "end = time.time()\n",
        "\n",
        "print(\"Se tardó \", end-start, \"segundos\")"
      ],
      "metadata": {
        "colab": {
          "base_uri": "https://localhost:8080/"
        },
        "id": "oIFyPSqN-FTz",
        "outputId": "00fd9106-e8fb-4706-8c5e-10c199789fc6"
      },
      "execution_count": 9,
      "outputs": [
        {
          "output_type": "stream",
          "name": "stdout",
          "text": [
            "Programa Secuencial Terminado\n",
            "Se tardó  0.017510414123535156 segundos\n"
          ]
        }
      ]
    },
    {
      "cell_type": "code",
      "source": [
        "start = time.time()\n",
        "\n",
        "with multiprocessing.Pool() as pool:\n",
        "  result = pool.map(cube, range(10,N))\n",
        "  print(\"¡Programa Terminado!\")\n",
        "\n",
        "print(\"Programa Concurrente con Multi-procesos Terminado\")\n",
        "\n",
        "end = time.time()\n",
        "\n",
        "print(\"Se tardó \", end-start, \"segundos\")"
      ],
      "metadata": {
        "colab": {
          "base_uri": "https://localhost:8080/"
        },
        "id": "IrNWGAQ8-oLD",
        "outputId": "52fe8bdd-3d85-4933-c8cd-3381d87eb52c"
      },
      "execution_count": 10,
      "outputs": [
        {
          "output_type": "stream",
          "name": "stdout",
          "text": [
            "¡Programa Terminado!\n",
            "Programa Concurrente con Multi-procesos Terminado\n",
            "Se tardó  0.06267666816711426 segundos\n"
          ]
        }
      ]
    },
    {
      "cell_type": "markdown",
      "source": [
        "El número de procesos que tu computadora es capaz de soportar depende del número de Núcelos que tu Procesador (CPU) tiene.\n",
        "\n",
        "Por default,  `Pool` crea ese mayor número posible de procesos, dependiendo de mis núcleos. Pero, puedo darle un valor con el parámetro *processes*.\n"
      ],
      "metadata": {
        "id": "5Cx6CeGh7NrH"
      }
    },
    {
      "cell_type": "code",
      "source": [
        "def fib(n):\n",
        "    return n if n < 2 else fib(n - 2) + fib(n - 1)\n",
        "\n",
        "with multiprocessing.Pool(processes=4) as pool:\n",
        "  results = pool.map(fib, range(40))\n",
        "  for i, result in enumerate(results):\n",
        "      print(f\"fib({i}) = {result}\")"
      ],
      "metadata": {
        "id": "lSZ3iltb-DJY"
      },
      "execution_count": null,
      "outputs": []
    },
    {
      "cell_type": "markdown",
      "source": [
        "\n",
        "\n",
        "Por cierto, para ver cuántos núcleos tiene tu Procesador, presiona Ctrl + Shift + Del (Supr) para abrir el Administrador de Tareas en WIndows.\n"
      ],
      "metadata": {
        "id": "6i1F5T-g-DnJ"
      }
    },
    {
      "cell_type": "markdown",
      "source": [
        "Tarea:\n",
        "\n",
        "Investigar sobre *MapReduce*"
      ],
      "metadata": {
        "id": "lrRCNtkD8Lbj"
      }
    },
    {
      "cell_type": "code",
      "source": [],
      "metadata": {
        "id": "6SntL_0l-CZJ"
      },
      "execution_count": null,
      "outputs": []
    }
  ]
}