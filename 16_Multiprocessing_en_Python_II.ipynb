{
  "nbformat": 4,
  "nbformat_minor": 0,
  "metadata": {
    "colab": {
      "provenance": [],
      "include_colab_link": true
    },
    "kernelspec": {
      "name": "python3",
      "display_name": "Python 3"
    },
    "language_info": {
      "name": "python"
    }
  },
  "cells": [
    {
      "cell_type": "markdown",
      "metadata": {
        "id": "view-in-github",
        "colab_type": "text"
      },
      "source": [
        "<a href=\"https://colab.research.google.com/github/robertoarturomc/Data_Science/blob/master/16_Multiprocessing_en_Python_II.ipynb\" target=\"_parent\"><img src=\"https://colab.research.google.com/assets/colab-badge.svg\" alt=\"Open In Colab\"/></a>"
      ]
    },
    {
      "cell_type": "markdown",
      "source": [
        "### Programación Concurrente\n",
        "## 15. Multiprocessing en Python\n",
        "\n",
        "El multiprocesamiento es la capacidad de un procesador de ejecutar varios procesos no relacionados **simultáneamente**. Estos procesos son independientes y no comparten ningún recurso. El multiprocesamiento fragmenta varios procesos en rutinas que se ejecutan de forma independiente.\n",
        "\n",
        "La Concurrencia con multi-hilos en Python se ve limitado por el Global Interpreter Lock  (GIL). El GIL es necesario ya que Python no es seguro para subprocesos (hilos).\n",
        "\n",
        "El multiprocesamiento en Python es un mecanismo eficaz para la gestión de memoria. Nos permite crear programas que omiten el GIL. Aunque el proceso es diferente de la biblioteca de subprocesos, la sintaxis es bastante similar.\n"
      ],
      "metadata": {
        "id": "8UQAJS17EEaI"
      }
    },
    {
      "cell_type": "code",
      "source": [
        "import multiprocessing"
      ],
      "metadata": {
        "id": "KJLFA89449Yn"
      },
      "execution_count": null,
      "outputs": []
    },
    {
      "cell_type": "code",
      "source": [
        "def spawn(num):\n",
        "  print(\"Proceso: \" + num)\n",
        "\n",
        "proceso_1 = multiprocessing.Process(target = spawn, args=(\"uno\",) )\n",
        "proceso_2 = multiprocessing.Process(target = spawn, args=(\"dos\",) )\n",
        "\n",
        "proceso_1.start()\n",
        "proceso_2.start()\n",
        "\n",
        "proceso_1.join()\n",
        "proceso_2.join()"
      ],
      "metadata": {
        "id": "DuN-RYnl4gvI",
        "colab": {
          "base_uri": "https://localhost:8080/"
        },
        "outputId": "2b40ceff-2bea-4762-c424-188d1507952f"
      },
      "execution_count": null,
      "outputs": [
        {
          "output_type": "stream",
          "name": "stdout",
          "text": [
            "Proceso: uno\n",
            "Proceso: dos\n"
          ]
        }
      ]
    },
    {
      "cell_type": "markdown",
      "source": [
        "## Caso de Estudio\n",
        "\n",
        "Cuál es más eficiente?\n",
        "\n",
        "- Secuencial\n",
        "- Concurrente con Multi-hilos\n",
        "- Concurrente con Multi-Procesos.\n",
        "\n",
        "\n",
        "Busca un ejemplo, ya sea en internet o uno que propongas. Prueba los tres enfoques (incluye el código), mide el tiempo que tarda cada uno en ejecutar y explica por qué ganó el que tomó menos tiempo en tus propias palabras.\n",
        "\n",
        "### Formato de entrega:\n",
        "\n",
        "- Notebook, donde des la explicación por escrito ó\n",
        "- Video, donde expliques, junto con código, por qué es más eficiente.\n",
        "\n",
        "Se evaluará la claridad con la que logres explicar por qué, para el ejemplo que propones, es más eficiente usar X enfoque. Pueden haber puntos extra por creatividad.\n",
        "\n",
        "\n",
        "\n",
        "Fecha de entrega: Máximo 15 de octubre a las 11:59 pm, por Blackboard."
      ],
      "metadata": {
        "id": "3RmwRuPojpLP"
      }
    },
    {
      "cell_type": "code",
      "source": [],
      "metadata": {
        "id": "WZ_-aR-Qg2Ka"
      },
      "execution_count": null,
      "outputs": []
    }
  ]
}