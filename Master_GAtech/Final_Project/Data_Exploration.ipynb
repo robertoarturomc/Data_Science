{
 "cells": [
  {
   "cell_type": "markdown",
   "metadata": {},
   "source": [
    "On this Notebook, the data is read, and some interesting variables are further examined to understand their meaning, if they are categorical, numerical or indexes, as well as the possible values that it may take."
   ]
  },
  {
   "cell_type": "code",
   "execution_count": 1,
   "metadata": {},
   "outputs": [],
   "source": [
    "import numpy as np\n",
    "import pandas as pd\n",
    "import matplotlib.pyplot as plt\n",
    "from sklearn.preprocessing import LabelEncoder"
   ]
  },
  {
   "cell_type": "code",
   "execution_count": 2,
   "metadata": {},
   "outputs": [
    {
     "data": {
      "text/html": [
       "<div>\n",
       "<style scoped>\n",
       "    .dataframe tbody tr th:only-of-type {\n",
       "        vertical-align: middle;\n",
       "    }\n",
       "\n",
       "    .dataframe tbody tr th {\n",
       "        vertical-align: top;\n",
       "    }\n",
       "\n",
       "    .dataframe thead th {\n",
       "        text-align: right;\n",
       "    }\n",
       "</style>\n",
       "<table border=\"1\" class=\"dataframe\">\n",
       "  <thead>\n",
       "    <tr style=\"text-align: right;\">\n",
       "      <th></th>\n",
       "      <th>start_id</th>\n",
       "      <th>pbp_idx</th>\n",
       "      <th>game_id</th>\n",
       "      <th>top_bot</th>\n",
       "      <th>inning</th>\n",
       "      <th>batter_stands</th>\n",
       "      <th>pitcher_id</th>\n",
       "      <th>throws</th>\n",
       "      <th>EventType</th>\n",
       "      <th>postouts</th>\n",
       "      <th>...</th>\n",
       "      <th>score_diff</th>\n",
       "      <th>tying_run_on</th>\n",
       "      <th>total_outs_recorded</th>\n",
       "      <th>total_bases_allowed</th>\n",
       "      <th>next_batter_hand</th>\n",
       "      <th>opposite_hand</th>\n",
       "      <th>end_of_inning</th>\n",
       "      <th>previously_walk</th>\n",
       "      <th>consec_walks</th>\n",
       "      <th>last_batter</th>\n",
       "    </tr>\n",
       "  </thead>\n",
       "  <tbody>\n",
       "    <tr>\n",
       "      <th>0</th>\n",
       "      <td>2019/04/01/anamlb-seamlb-1_433587</td>\n",
       "      <td>1</td>\n",
       "      <td>2019/04/01/anamlb-seamlb-1</td>\n",
       "      <td>Y</td>\n",
       "      <td>1</td>\n",
       "      <td>L</td>\n",
       "      <td>433587</td>\n",
       "      <td>R</td>\n",
       "      <td>field_out</td>\n",
       "      <td>1</td>\n",
       "      <td>...</td>\n",
       "      <td>0</td>\n",
       "      <td>0</td>\n",
       "      <td>0</td>\n",
       "      <td>0</td>\n",
       "      <td>R</td>\n",
       "      <td>0.0</td>\n",
       "      <td>0</td>\n",
       "      <td>0</td>\n",
       "      <td>0</td>\n",
       "      <td>0</td>\n",
       "    </tr>\n",
       "    <tr>\n",
       "      <th>1</th>\n",
       "      <td>2019/04/01/anamlb-seamlb-1_433587</td>\n",
       "      <td>2</td>\n",
       "      <td>2019/04/01/anamlb-seamlb-1</td>\n",
       "      <td>Y</td>\n",
       "      <td>1</td>\n",
       "      <td>R</td>\n",
       "      <td>433587</td>\n",
       "      <td>R</td>\n",
       "      <td>hit_by_pitch</td>\n",
       "      <td>1</td>\n",
       "      <td>...</td>\n",
       "      <td>0</td>\n",
       "      <td>0</td>\n",
       "      <td>1</td>\n",
       "      <td>0</td>\n",
       "      <td>L</td>\n",
       "      <td>1.0</td>\n",
       "      <td>0</td>\n",
       "      <td>0</td>\n",
       "      <td>0</td>\n",
       "      <td>0</td>\n",
       "    </tr>\n",
       "    <tr>\n",
       "      <th>2</th>\n",
       "      <td>2019/04/01/anamlb-seamlb-1_433587</td>\n",
       "      <td>3</td>\n",
       "      <td>2019/04/01/anamlb-seamlb-1</td>\n",
       "      <td>Y</td>\n",
       "      <td>1</td>\n",
       "      <td>L</td>\n",
       "      <td>433587</td>\n",
       "      <td>R</td>\n",
       "      <td>force_out</td>\n",
       "      <td>2</td>\n",
       "      <td>...</td>\n",
       "      <td>0</td>\n",
       "      <td>0</td>\n",
       "      <td>1</td>\n",
       "      <td>1</td>\n",
       "      <td>R</td>\n",
       "      <td>0.0</td>\n",
       "      <td>0</td>\n",
       "      <td>0</td>\n",
       "      <td>0</td>\n",
       "      <td>0</td>\n",
       "    </tr>\n",
       "    <tr>\n",
       "      <th>3</th>\n",
       "      <td>2019/04/01/anamlb-seamlb-1_433587</td>\n",
       "      <td>4</td>\n",
       "      <td>2019/04/01/anamlb-seamlb-1</td>\n",
       "      <td>Y</td>\n",
       "      <td>1</td>\n",
       "      <td>R</td>\n",
       "      <td>433587</td>\n",
       "      <td>R</td>\n",
       "      <td>field_out</td>\n",
       "      <td>3</td>\n",
       "      <td>...</td>\n",
       "      <td>0</td>\n",
       "      <td>0</td>\n",
       "      <td>2</td>\n",
       "      <td>1</td>\n",
       "      <td>R</td>\n",
       "      <td>0.0</td>\n",
       "      <td>1</td>\n",
       "      <td>0</td>\n",
       "      <td>0</td>\n",
       "      <td>0</td>\n",
       "    </tr>\n",
       "    <tr>\n",
       "      <th>4</th>\n",
       "      <td>2019/04/01/anamlb-seamlb-1_433587</td>\n",
       "      <td>5</td>\n",
       "      <td>2019/04/01/anamlb-seamlb-1</td>\n",
       "      <td>Y</td>\n",
       "      <td>2</td>\n",
       "      <td>R</td>\n",
       "      <td>433587</td>\n",
       "      <td>R</td>\n",
       "      <td>single</td>\n",
       "      <td>0</td>\n",
       "      <td>...</td>\n",
       "      <td>4</td>\n",
       "      <td>0</td>\n",
       "      <td>3</td>\n",
       "      <td>1</td>\n",
       "      <td>L</td>\n",
       "      <td>1.0</td>\n",
       "      <td>0</td>\n",
       "      <td>0</td>\n",
       "      <td>0</td>\n",
       "      <td>0</td>\n",
       "    </tr>\n",
       "  </tbody>\n",
       "</table>\n",
       "<p>5 rows × 30 columns</p>\n",
       "</div>"
      ],
      "text/plain": [
       "                            start_id  pbp_idx                     game_id  \\\n",
       "0  2019/04/01/anamlb-seamlb-1_433587        1  2019/04/01/anamlb-seamlb-1   \n",
       "1  2019/04/01/anamlb-seamlb-1_433587        2  2019/04/01/anamlb-seamlb-1   \n",
       "2  2019/04/01/anamlb-seamlb-1_433587        3  2019/04/01/anamlb-seamlb-1   \n",
       "3  2019/04/01/anamlb-seamlb-1_433587        4  2019/04/01/anamlb-seamlb-1   \n",
       "4  2019/04/01/anamlb-seamlb-1_433587        5  2019/04/01/anamlb-seamlb-1   \n",
       "\n",
       "  top_bot  inning batter_stands  pitcher_id throws     EventType  postouts  \\\n",
       "0       Y       1             L      433587      R     field_out         1   \n",
       "1       Y       1             R      433587      R  hit_by_pitch         1   \n",
       "2       Y       1             L      433587      R     force_out         2   \n",
       "3       Y       1             R      433587      R     field_out         3   \n",
       "4       Y       2             R      433587      R        single         0   \n",
       "\n",
       "   ...  score_diff  tying_run_on  total_outs_recorded  total_bases_allowed  \\\n",
       "0  ...           0             0                    0                    0   \n",
       "1  ...           0             0                    1                    0   \n",
       "2  ...           0             0                    1                    1   \n",
       "3  ...           0             0                    2                    1   \n",
       "4  ...           4             0                    3                    1   \n",
       "\n",
       "   next_batter_hand opposite_hand  end_of_inning  previously_walk  \\\n",
       "0                 R           0.0              0                0   \n",
       "1                 L           1.0              0                0   \n",
       "2                 R           0.0              0                0   \n",
       "3                 R           0.0              1                0   \n",
       "4                 L           1.0              0                0   \n",
       "\n",
       "   consec_walks  last_batter  \n",
       "0             0            0  \n",
       "1             0            0  \n",
       "2             0            0  \n",
       "3             0            0  \n",
       "4             0            0  \n",
       "\n",
       "[5 rows x 30 columns]"
      ]
     },
     "execution_count": 2,
     "metadata": {},
     "output_type": "execute_result"
    }
   ],
   "source": [
    "data = pd.read_csv('MLBPitcherRemovalData.csv')\n",
    "data.head()"
   ]
  },
  {
   "cell_type": "code",
   "execution_count": 3,
   "metadata": {},
   "outputs": [
    {
     "data": {
      "text/plain": [
       "(49521, 30)"
      ]
     },
     "execution_count": 3,
     "metadata": {},
     "output_type": "execute_result"
    }
   ],
   "source": [
    "data.shape"
   ]
  },
  {
   "cell_type": "code",
   "execution_count": 4,
   "metadata": {},
   "outputs": [
    {
     "data": {
      "text/plain": [
       "2177"
      ]
     },
     "execution_count": 4,
     "metadata": {},
     "output_type": "execute_result"
    }
   ],
   "source": [
    "data.last_batter.sum()"
   ]
  },
  {
   "cell_type": "code",
   "execution_count": 5,
   "metadata": {},
   "outputs": [
    {
     "data": {
      "text/html": [
       "<div>\n",
       "<style scoped>\n",
       "    .dataframe tbody tr th:only-of-type {\n",
       "        vertical-align: middle;\n",
       "    }\n",
       "\n",
       "    .dataframe tbody tr th {\n",
       "        vertical-align: top;\n",
       "    }\n",
       "\n",
       "    .dataframe thead th {\n",
       "        text-align: right;\n",
       "    }\n",
       "</style>\n",
       "<table border=\"1\" class=\"dataframe\">\n",
       "  <thead>\n",
       "    <tr style=\"text-align: right;\">\n",
       "      <th></th>\n",
       "      <th>date</th>\n",
       "      <th>gameid</th>\n",
       "      <th>hometeam</th>\n",
       "      <th>pitcherteam</th>\n",
       "      <th>total_pitches</th>\n",
       "    </tr>\n",
       "  </thead>\n",
       "  <tbody>\n",
       "    <tr>\n",
       "      <th>0</th>\n",
       "      <td>3/28/2019</td>\n",
       "      <td>565799</td>\n",
       "      <td>LAD</td>\n",
       "      <td>ARI</td>\n",
       "      <td>144</td>\n",
       "    </tr>\n",
       "    <tr>\n",
       "      <th>1</th>\n",
       "      <td>3/28/2019</td>\n",
       "      <td>566086</td>\n",
       "      <td>OAK</td>\n",
       "      <td>OAK</td>\n",
       "      <td>118</td>\n",
       "    </tr>\n",
       "    <tr>\n",
       "      <th>2</th>\n",
       "      <td>3/28/2019</td>\n",
       "      <td>566275</td>\n",
       "      <td>SD</td>\n",
       "      <td>SD</td>\n",
       "      <td>108</td>\n",
       "    </tr>\n",
       "    <tr>\n",
       "      <th>3</th>\n",
       "      <td>3/28/2019</td>\n",
       "      <td>566962</td>\n",
       "      <td>MIN</td>\n",
       "      <td>MIN</td>\n",
       "      <td>111</td>\n",
       "    </tr>\n",
       "    <tr>\n",
       "      <th>4</th>\n",
       "      <td>3/28/2019</td>\n",
       "      <td>567059</td>\n",
       "      <td>PHI</td>\n",
       "      <td>ATL</td>\n",
       "      <td>148</td>\n",
       "    </tr>\n",
       "  </tbody>\n",
       "</table>\n",
       "</div>"
      ],
      "text/plain": [
       "        date  gameid hometeam pitcherteam  total_pitches\n",
       "0  3/28/2019  565799      LAD         ARI            144\n",
       "1  3/28/2019  566086      OAK         OAK            118\n",
       "2  3/28/2019  566275       SD          SD            108\n",
       "3  3/28/2019  566962      MIN         MIN            111\n",
       "4  3/28/2019  567059      PHI         ATL            148"
      ]
     },
     "execution_count": 5,
     "metadata": {},
     "output_type": "execute_result"
    }
   ],
   "source": [
    "data2 = pd.read_csv('TeamDatePitchTotals.csv')\n",
    "data2.head()"
   ]
  },
  {
   "cell_type": "code",
   "execution_count": 6,
   "metadata": {},
   "outputs": [
    {
     "data": {
      "text/plain": [
       "(4975, 5)"
      ]
     },
     "execution_count": 6,
     "metadata": {},
     "output_type": "execute_result"
    }
   ],
   "source": [
    "data2.shape"
   ]
  },
  {
   "cell_type": "code",
   "execution_count": 7,
   "metadata": {},
   "outputs": [
    {
     "data": {
      "text/plain": [
       "1174"
      ]
     },
     "execution_count": 7,
     "metadata": {},
     "output_type": "execute_result"
    }
   ],
   "source": [
    "len(data.game_id.unique())"
   ]
  },
  {
   "cell_type": "code",
   "execution_count": 8,
   "metadata": {},
   "outputs": [
    {
     "data": {
      "text/plain": [
       "2177"
      ]
     },
     "execution_count": 8,
     "metadata": {},
     "output_type": "execute_result"
    }
   ],
   "source": [
    "len(data.start_id.unique())"
   ]
  },
  {
   "cell_type": "code",
   "execution_count": 9,
   "metadata": {},
   "outputs": [
    {
     "data": {
      "text/plain": [
       "256"
      ]
     },
     "execution_count": 9,
     "metadata": {},
     "output_type": "execute_result"
    }
   ],
   "source": [
    "len(data.pitcher_id.unique())"
   ]
  },
  {
   "cell_type": "code",
   "execution_count": 10,
   "metadata": {},
   "outputs": [
    {
     "data": {
      "text/plain": [
       "array(['field_out', 'hit_by_pitch', 'force_out', 'single', 'strikeout',\n",
       "       'field_error', 'double', 'walk', 'grounded_into_double_play',\n",
       "       'home_run', 'fielders_choice', 'sac_fly', 'other_out', 'triple',\n",
       "       'intent_walk', 'double_play', 'caught_stealing_2b',\n",
       "       'strikeout_double_play', 'caught_stealing_home', 'sac_bunt',\n",
       "       'pickoff_1b', 'catcher_interf', 'fielders_choice_out',\n",
       "       'sac_fly_double_play', 'pickoff_2b', 'runner_double_play',\n",
       "       'pickoff_caught_stealing_2b', 'fan_interference',\n",
       "       'caught_stealing_3b', 'triple_play', 'batter_interference',\n",
       "       'pickoff_caught_stealing_home'], dtype=object)"
      ]
     },
     "execution_count": 10,
     "metadata": {},
     "output_type": "execute_result"
    }
   ],
   "source": [
    "data.EventType.unique()"
   ]
  },
  {
   "cell_type": "code",
   "execution_count": 11,
   "metadata": {},
   "outputs": [
    {
     "data": {
      "text/plain": [
       "field_out                       20012\n",
       "strikeout                       10608\n",
       "single                           7051\n",
       "walk                             3568\n",
       "double                           2380\n",
       "home_run                         1993\n",
       "grounded_into_double_play         909\n",
       "force_out                         905\n",
       "hit_by_pitch                      489\n",
       "field_error                       365\n",
       "sac_fly                           283\n",
       "triple                            225\n",
       "other_out                         124\n",
       "double_play                       108\n",
       "sac_bunt                           99\n",
       "fielders_choice                    98\n",
       "fielders_choice_out                74\n",
       "caught_stealing_2b                 58\n",
       "strikeout_double_play              54\n",
       "intent_walk                        43\n",
       "catcher_interf                     18\n",
       "pickoff_caught_stealing_2b         17\n",
       "pickoff_1b                         13\n",
       "sac_fly_double_play                 5\n",
       "caught_stealing_home                5\n",
       "caught_stealing_3b                  4\n",
       "triple_play                         3\n",
       "pickoff_2b                          3\n",
       "fan_interference                    3\n",
       "runner_double_play                  2\n",
       "batter_interference                 1\n",
       "pickoff_caught_stealing_home        1\n",
       "Name: EventType, dtype: int64"
      ]
     },
     "execution_count": 11,
     "metadata": {},
     "output_type": "execute_result"
    }
   ],
   "source": [
    "data.EventType.value_counts()"
   ]
  },
  {
   "cell_type": "markdown",
   "metadata": {},
   "source": [
    "Next, we work with the variables involving the hand of both the pitcher and the batter."
   ]
  },
  {
   "cell_type": "code",
   "execution_count": 12,
   "metadata": {},
   "outputs": [
    {
     "data": {
      "text/html": [
       "<div>\n",
       "<style scoped>\n",
       "    .dataframe tbody tr th:only-of-type {\n",
       "        vertical-align: middle;\n",
       "    }\n",
       "\n",
       "    .dataframe tbody tr th {\n",
       "        vertical-align: top;\n",
       "    }\n",
       "\n",
       "    .dataframe thead th {\n",
       "        text-align: right;\n",
       "    }\n",
       "</style>\n",
       "<table border=\"1\" class=\"dataframe\">\n",
       "  <thead>\n",
       "    <tr style=\"text-align: right;\">\n",
       "      <th></th>\n",
       "      <th>throws</th>\n",
       "      <th>next_batter_hand</th>\n",
       "      <th>opposite_hand</th>\n",
       "    </tr>\n",
       "  </thead>\n",
       "  <tbody>\n",
       "    <tr>\n",
       "      <th>0</th>\n",
       "      <td>R</td>\n",
       "      <td>R</td>\n",
       "      <td>0.0</td>\n",
       "    </tr>\n",
       "    <tr>\n",
       "      <th>1</th>\n",
       "      <td>R</td>\n",
       "      <td>L</td>\n",
       "      <td>1.0</td>\n",
       "    </tr>\n",
       "    <tr>\n",
       "      <th>2</th>\n",
       "      <td>R</td>\n",
       "      <td>R</td>\n",
       "      <td>0.0</td>\n",
       "    </tr>\n",
       "    <tr>\n",
       "      <th>3</th>\n",
       "      <td>R</td>\n",
       "      <td>R</td>\n",
       "      <td>0.0</td>\n",
       "    </tr>\n",
       "    <tr>\n",
       "      <th>4</th>\n",
       "      <td>R</td>\n",
       "      <td>L</td>\n",
       "      <td>1.0</td>\n",
       "    </tr>\n",
       "    <tr>\n",
       "      <th>...</th>\n",
       "      <td>...</td>\n",
       "      <td>...</td>\n",
       "      <td>...</td>\n",
       "    </tr>\n",
       "    <tr>\n",
       "      <th>49516</th>\n",
       "      <td>L</td>\n",
       "      <td>R</td>\n",
       "      <td>1.0</td>\n",
       "    </tr>\n",
       "    <tr>\n",
       "      <th>49517</th>\n",
       "      <td>L</td>\n",
       "      <td>R</td>\n",
       "      <td>1.0</td>\n",
       "    </tr>\n",
       "    <tr>\n",
       "      <th>49518</th>\n",
       "      <td>L</td>\n",
       "      <td>L</td>\n",
       "      <td>0.0</td>\n",
       "    </tr>\n",
       "    <tr>\n",
       "      <th>49519</th>\n",
       "      <td>L</td>\n",
       "      <td>R</td>\n",
       "      <td>1.0</td>\n",
       "    </tr>\n",
       "    <tr>\n",
       "      <th>49520</th>\n",
       "      <td>L</td>\n",
       "      <td>L</td>\n",
       "      <td>0.0</td>\n",
       "    </tr>\n",
       "  </tbody>\n",
       "</table>\n",
       "<p>49521 rows × 3 columns</p>\n",
       "</div>"
      ],
      "text/plain": [
       "      throws next_batter_hand  opposite_hand\n",
       "0          R                R            0.0\n",
       "1          R                L            1.0\n",
       "2          R                R            0.0\n",
       "3          R                R            0.0\n",
       "4          R                L            1.0\n",
       "...      ...              ...            ...\n",
       "49516      L                R            1.0\n",
       "49517      L                R            1.0\n",
       "49518      L                L            0.0\n",
       "49519      L                R            1.0\n",
       "49520      L                L            0.0\n",
       "\n",
       "[49521 rows x 3 columns]"
      ]
     },
     "execution_count": 12,
     "metadata": {},
     "output_type": "execute_result"
    }
   ],
   "source": [
    "data[['throws', 'next_batter_hand', 'opposite_hand']]"
   ]
  },
  {
   "cell_type": "code",
   "execution_count": 13,
   "metadata": {},
   "outputs": [
    {
     "data": {
      "text/plain": [
       "29246"
      ]
     },
     "execution_count": 13,
     "metadata": {},
     "output_type": "execute_result"
    }
   ],
   "source": [
    "(data['throws']!=data['next_batter_hand']).sum()"
   ]
  },
  {
   "cell_type": "code",
   "execution_count": 14,
   "metadata": {},
   "outputs": [
    {
     "data": {
      "text/plain": [
       "29235.0"
      ]
     },
     "execution_count": 14,
     "metadata": {},
     "output_type": "execute_result"
    }
   ],
   "source": [
    "data['opposite_hand'].sum()"
   ]
  },
  {
   "cell_type": "code",
   "execution_count": 15,
   "metadata": {},
   "outputs": [
    {
     "data": {
      "text/plain": [
       "array(['R', 'L', nan], dtype=object)"
      ]
     },
     "execution_count": 15,
     "metadata": {},
     "output_type": "execute_result"
    }
   ],
   "source": [
    "data.next_batter_hand.unique()"
   ]
  },
  {
   "cell_type": "markdown",
   "metadata": {},
   "source": [
    "There are missing values! Are there more missing for other variables?"
   ]
  },
  {
   "cell_type": "code",
   "execution_count": 16,
   "metadata": {},
   "outputs": [
    {
     "data": {
      "text/plain": [
       "start_id                  0\n",
       "pbp_idx                   0\n",
       "game_id                   0\n",
       "top_bot                   0\n",
       "inning                    0\n",
       "batter_stands             0\n",
       "pitcher_id                0\n",
       "throws                    0\n",
       "EventType                 0\n",
       "postouts                  0\n",
       "post_runner_on_first      0\n",
       "post_runner_on_second     0\n",
       "post_runner_on_third      0\n",
       "PostVisTeamScore          0\n",
       "PostHomeTeamScore         0\n",
       "home_away                 0\n",
       "pitches_in_pa             0\n",
       "pitch_total               0\n",
       "er_total                  0\n",
       "runners_on_base           0\n",
       "score_diff                0\n",
       "tying_run_on              0\n",
       "total_outs_recorded       0\n",
       "total_bases_allowed       0\n",
       "next_batter_hand         11\n",
       "opposite_hand            11\n",
       "end_of_inning             0\n",
       "previously_walk           0\n",
       "consec_walks              0\n",
       "last_batter               0\n",
       "dtype: int64"
      ]
     },
     "execution_count": 16,
     "metadata": {},
     "output_type": "execute_result"
    }
   ],
   "source": [
    "data.isnull().sum(axis=0)"
   ]
  },
  {
   "cell_type": "code",
   "execution_count": 17,
   "metadata": {},
   "outputs": [
    {
     "data": {
      "text/html": [
       "<div>\n",
       "<style scoped>\n",
       "    .dataframe tbody tr th:only-of-type {\n",
       "        vertical-align: middle;\n",
       "    }\n",
       "\n",
       "    .dataframe tbody tr th {\n",
       "        vertical-align: top;\n",
       "    }\n",
       "\n",
       "    .dataframe thead th {\n",
       "        text-align: right;\n",
       "    }\n",
       "</style>\n",
       "<table border=\"1\" class=\"dataframe\">\n",
       "  <thead>\n",
       "    <tr style=\"text-align: right;\">\n",
       "      <th></th>\n",
       "      <th>next_batter_hand</th>\n",
       "      <th>last_batter</th>\n",
       "    </tr>\n",
       "  </thead>\n",
       "  <tbody>\n",
       "    <tr>\n",
       "      <th>8388</th>\n",
       "      <td>NaN</td>\n",
       "      <td>1</td>\n",
       "    </tr>\n",
       "    <tr>\n",
       "      <th>17989</th>\n",
       "      <td>NaN</td>\n",
       "      <td>1</td>\n",
       "    </tr>\n",
       "    <tr>\n",
       "      <th>22880</th>\n",
       "      <td>NaN</td>\n",
       "      <td>1</td>\n",
       "    </tr>\n",
       "    <tr>\n",
       "      <th>25444</th>\n",
       "      <td>NaN</td>\n",
       "      <td>1</td>\n",
       "    </tr>\n",
       "    <tr>\n",
       "      <th>25776</th>\n",
       "      <td>NaN</td>\n",
       "      <td>1</td>\n",
       "    </tr>\n",
       "    <tr>\n",
       "      <th>27663</th>\n",
       "      <td>NaN</td>\n",
       "      <td>1</td>\n",
       "    </tr>\n",
       "    <tr>\n",
       "      <th>28309</th>\n",
       "      <td>NaN</td>\n",
       "      <td>1</td>\n",
       "    </tr>\n",
       "    <tr>\n",
       "      <th>32986</th>\n",
       "      <td>NaN</td>\n",
       "      <td>1</td>\n",
       "    </tr>\n",
       "    <tr>\n",
       "      <th>43471</th>\n",
       "      <td>NaN</td>\n",
       "      <td>1</td>\n",
       "    </tr>\n",
       "    <tr>\n",
       "      <th>46615</th>\n",
       "      <td>NaN</td>\n",
       "      <td>1</td>\n",
       "    </tr>\n",
       "    <tr>\n",
       "      <th>47965</th>\n",
       "      <td>NaN</td>\n",
       "      <td>1</td>\n",
       "    </tr>\n",
       "  </tbody>\n",
       "</table>\n",
       "</div>"
      ],
      "text/plain": [
       "      next_batter_hand  last_batter\n",
       "8388               NaN            1\n",
       "17989              NaN            1\n",
       "22880              NaN            1\n",
       "25444              NaN            1\n",
       "25776              NaN            1\n",
       "27663              NaN            1\n",
       "28309              NaN            1\n",
       "32986              NaN            1\n",
       "43471              NaN            1\n",
       "46615              NaN            1\n",
       "47965              NaN            1"
      ]
     },
     "execution_count": 17,
     "metadata": {},
     "output_type": "execute_result"
    }
   ],
   "source": [
    "data.loc[data.next_batter_hand.isna(), ['next_batter_hand', 'last_batter']]"
   ]
  },
  {
   "cell_type": "markdown",
   "metadata": {},
   "source": [
    "They are all the last batters! However, to see if pitchers were changed in part due the next batter hand, we must fill the missing values, or deleting them. After research, the values will be manually filled with the true value."
   ]
  },
  {
   "cell_type": "markdown",
   "metadata": {},
   "source": [
    "Next, is there any relationship betweeen the top/bottom of an inning and the Home/Away team?"
   ]
  },
  {
   "cell_type": "code",
   "execution_count": 18,
   "metadata": {},
   "outputs": [
    {
     "data": {
      "text/html": [
       "<div>\n",
       "<style scoped>\n",
       "    .dataframe tbody tr th:only-of-type {\n",
       "        vertical-align: middle;\n",
       "    }\n",
       "\n",
       "    .dataframe tbody tr th {\n",
       "        vertical-align: top;\n",
       "    }\n",
       "\n",
       "    .dataframe thead th {\n",
       "        text-align: right;\n",
       "    }\n",
       "</style>\n",
       "<table border=\"1\" class=\"dataframe\">\n",
       "  <thead>\n",
       "    <tr style=\"text-align: right;\">\n",
       "      <th>home_away</th>\n",
       "      <th>Away</th>\n",
       "      <th>Home</th>\n",
       "    </tr>\n",
       "    <tr>\n",
       "      <th>top_bot</th>\n",
       "      <th></th>\n",
       "      <th></th>\n",
       "    </tr>\n",
       "  </thead>\n",
       "  <tbody>\n",
       "    <tr>\n",
       "      <th>N</th>\n",
       "      <td>24890</td>\n",
       "      <td>0</td>\n",
       "    </tr>\n",
       "    <tr>\n",
       "      <th>Y</th>\n",
       "      <td>0</td>\n",
       "      <td>24631</td>\n",
       "    </tr>\n",
       "  </tbody>\n",
       "</table>\n",
       "</div>"
      ],
      "text/plain": [
       "home_away   Away   Home\n",
       "top_bot                \n",
       "N          24890      0\n",
       "Y              0  24631"
      ]
     },
     "execution_count": 18,
     "metadata": {},
     "output_type": "execute_result"
    }
   ],
   "source": [
    "pd.crosstab(data[\"top_bot\"], data[\"home_away\"])"
   ]
  },
  {
   "cell_type": "markdown",
   "metadata": {},
   "source": [
    "They have collinearity! Makes sense since the home team pitches on the top of the inning. "
   ]
  },
  {
   "cell_type": "code",
   "execution_count": 19,
   "metadata": {},
   "outputs": [
    {
     "data": {
      "text/plain": [
       "postouts                3\n",
       "total_outs_recorded    26\n",
       "dtype: int64"
      ]
     },
     "execution_count": 19,
     "metadata": {},
     "output_type": "execute_result"
    }
   ],
   "source": [
    "data[['postouts', 'total_outs_recorded']].max()"
   ]
  },
  {
   "cell_type": "code",
   "execution_count": 20,
   "metadata": {},
   "outputs": [
    {
     "data": {
      "text/plain": [
       "32683"
      ]
     },
     "execution_count": 20,
     "metadata": {},
     "output_type": "execute_result"
    }
   ],
   "source": [
    "(np.abs(data['PostVisTeamScore'] - data['PostHomeTeamScore']) == data['score_diff']).sum()"
   ]
  },
  {
   "cell_type": "markdown",
   "metadata": {},
   "source": [
    "They do not always match! Why?"
   ]
  },
  {
   "cell_type": "code",
   "execution_count": 21,
   "metadata": {},
   "outputs": [
    {
     "data": {
      "text/html": [
       "<div>\n",
       "<style scoped>\n",
       "    .dataframe tbody tr th:only-of-type {\n",
       "        vertical-align: middle;\n",
       "    }\n",
       "\n",
       "    .dataframe tbody tr th {\n",
       "        vertical-align: top;\n",
       "    }\n",
       "\n",
       "    .dataframe thead th {\n",
       "        text-align: right;\n",
       "    }\n",
       "</style>\n",
       "<table border=\"1\" class=\"dataframe\">\n",
       "  <thead>\n",
       "    <tr style=\"text-align: right;\">\n",
       "      <th></th>\n",
       "      <th>PostVisTeamScore</th>\n",
       "      <th>PostHomeTeamScore</th>\n",
       "      <th>score_diff</th>\n",
       "    </tr>\n",
       "  </thead>\n",
       "  <tbody>\n",
       "    <tr>\n",
       "      <th>27</th>\n",
       "      <td>0</td>\n",
       "      <td>1</td>\n",
       "      <td>-1</td>\n",
       "    </tr>\n",
       "    <tr>\n",
       "      <th>28</th>\n",
       "      <td>0</td>\n",
       "      <td>1</td>\n",
       "      <td>-1</td>\n",
       "    </tr>\n",
       "    <tr>\n",
       "      <th>29</th>\n",
       "      <td>0</td>\n",
       "      <td>1</td>\n",
       "      <td>-1</td>\n",
       "    </tr>\n",
       "    <tr>\n",
       "      <th>30</th>\n",
       "      <td>0</td>\n",
       "      <td>2</td>\n",
       "      <td>-2</td>\n",
       "    </tr>\n",
       "    <tr>\n",
       "      <th>31</th>\n",
       "      <td>0</td>\n",
       "      <td>4</td>\n",
       "      <td>-4</td>\n",
       "    </tr>\n",
       "    <tr>\n",
       "      <th>...</th>\n",
       "      <td>...</td>\n",
       "      <td>...</td>\n",
       "      <td>...</td>\n",
       "    </tr>\n",
       "    <tr>\n",
       "      <th>49516</th>\n",
       "      <td>0</td>\n",
       "      <td>2</td>\n",
       "      <td>-2</td>\n",
       "    </tr>\n",
       "    <tr>\n",
       "      <th>49517</th>\n",
       "      <td>0</td>\n",
       "      <td>2</td>\n",
       "      <td>-2</td>\n",
       "    </tr>\n",
       "    <tr>\n",
       "      <th>49518</th>\n",
       "      <td>0</td>\n",
       "      <td>2</td>\n",
       "      <td>-2</td>\n",
       "    </tr>\n",
       "    <tr>\n",
       "      <th>49519</th>\n",
       "      <td>0</td>\n",
       "      <td>2</td>\n",
       "      <td>-2</td>\n",
       "    </tr>\n",
       "    <tr>\n",
       "      <th>49520</th>\n",
       "      <td>0</td>\n",
       "      <td>2</td>\n",
       "      <td>-2</td>\n",
       "    </tr>\n",
       "  </tbody>\n",
       "</table>\n",
       "<p>16838 rows × 3 columns</p>\n",
       "</div>"
      ],
      "text/plain": [
       "       PostVisTeamScore  PostHomeTeamScore  score_diff\n",
       "27                    0                  1          -1\n",
       "28                    0                  1          -1\n",
       "29                    0                  1          -1\n",
       "30                    0                  2          -2\n",
       "31                    0                  4          -4\n",
       "...                 ...                ...         ...\n",
       "49516                 0                  2          -2\n",
       "49517                 0                  2          -2\n",
       "49518                 0                  2          -2\n",
       "49519                 0                  2          -2\n",
       "49520                 0                  2          -2\n",
       "\n",
       "[16838 rows x 3 columns]"
      ]
     },
     "execution_count": 21,
     "metadata": {},
     "output_type": "execute_result"
    }
   ],
   "source": [
    "not_equal = ~(np.abs(data['PostVisTeamScore'] - data['PostHomeTeamScore']) == data['score_diff'])\n",
    "scores_vars = ['PostVisTeamScore', 'PostHomeTeamScore', 'score_diff']\n",
    "\n",
    "data.loc[not_equal, scores_vars]"
   ]
  },
  {
   "cell_type": "code",
   "execution_count": 22,
   "metadata": {},
   "outputs": [
    {
     "data": {
      "text/plain": [
       "33129"
      ]
     },
     "execution_count": 22,
     "metadata": {},
     "output_type": "execute_result"
    }
   ],
   "source": [
    "((data['PostVisTeamScore'] - data['PostHomeTeamScore']) == data['score_diff']).sum()"
   ]
  },
  {
   "cell_type": "code",
   "execution_count": 23,
   "metadata": {},
   "outputs": [
    {
     "data": {
      "text/plain": [
       "49521"
      ]
     },
     "execution_count": 23,
     "metadata": {},
     "output_type": "execute_result"
    }
   ],
   "source": [
    "(np.abs(data['PostVisTeamScore'] - data['PostHomeTeamScore']) == np.abs(data['score_diff'])).sum()"
   ]
  },
  {
   "cell_type": "markdown",
   "metadata": {},
   "source": [
    "Again, they do not match! By definition, _score_diff_ is the \"difference in runs scored between the pitcher’s team and the batting team\". We may assume that this is because the database has both home and away pitchers.\n",
    "Is there any easy way to know if the pitcher is at home or away?"
   ]
  },
  {
   "cell_type": "code",
   "execution_count": 24,
   "metadata": {},
   "outputs": [
    {
     "data": {
      "text/plain": [
       "131"
      ]
     },
     "execution_count": 24,
     "metadata": {},
     "output_type": "execute_result"
    }
   ],
   "source": [
    "data['pitch_total'].max()"
   ]
  },
  {
   "cell_type": "code",
   "execution_count": 25,
   "metadata": {},
   "outputs": [
    {
     "data": {
      "text/html": [
       "<div>\n",
       "<style scoped>\n",
       "    .dataframe tbody tr th:only-of-type {\n",
       "        vertical-align: middle;\n",
       "    }\n",
       "\n",
       "    .dataframe tbody tr th {\n",
       "        vertical-align: top;\n",
       "    }\n",
       "\n",
       "    .dataframe thead th {\n",
       "        text-align: right;\n",
       "    }\n",
       "</style>\n",
       "<table border=\"1\" class=\"dataframe\">\n",
       "  <thead>\n",
       "    <tr style=\"text-align: right;\">\n",
       "      <th></th>\n",
       "      <th>score_diff</th>\n",
       "      <th>post_runner_on_third</th>\n",
       "      <th>tying_run_on</th>\n",
       "    </tr>\n",
       "  </thead>\n",
       "  <tbody>\n",
       "    <tr>\n",
       "      <th>0</th>\n",
       "      <td>0</td>\n",
       "      <td>0</td>\n",
       "      <td>0</td>\n",
       "    </tr>\n",
       "    <tr>\n",
       "      <th>1</th>\n",
       "      <td>0</td>\n",
       "      <td>0</td>\n",
       "      <td>0</td>\n",
       "    </tr>\n",
       "    <tr>\n",
       "      <th>2</th>\n",
       "      <td>0</td>\n",
       "      <td>0</td>\n",
       "      <td>0</td>\n",
       "    </tr>\n",
       "    <tr>\n",
       "      <th>3</th>\n",
       "      <td>0</td>\n",
       "      <td>0</td>\n",
       "      <td>0</td>\n",
       "    </tr>\n",
       "    <tr>\n",
       "      <th>4</th>\n",
       "      <td>4</td>\n",
       "      <td>0</td>\n",
       "      <td>0</td>\n",
       "    </tr>\n",
       "    <tr>\n",
       "      <th>5</th>\n",
       "      <td>4</td>\n",
       "      <td>0</td>\n",
       "      <td>0</td>\n",
       "    </tr>\n",
       "    <tr>\n",
       "      <th>6</th>\n",
       "      <td>4</td>\n",
       "      <td>1</td>\n",
       "      <td>0</td>\n",
       "    </tr>\n",
       "    <tr>\n",
       "      <th>7</th>\n",
       "      <td>3</td>\n",
       "      <td>0</td>\n",
       "      <td>0</td>\n",
       "    </tr>\n",
       "    <tr>\n",
       "      <th>8</th>\n",
       "      <td>3</td>\n",
       "      <td>0</td>\n",
       "      <td>0</td>\n",
       "    </tr>\n",
       "    <tr>\n",
       "      <th>9</th>\n",
       "      <td>3</td>\n",
       "      <td>0</td>\n",
       "      <td>0</td>\n",
       "    </tr>\n",
       "    <tr>\n",
       "      <th>10</th>\n",
       "      <td>3</td>\n",
       "      <td>0</td>\n",
       "      <td>0</td>\n",
       "    </tr>\n",
       "    <tr>\n",
       "      <th>11</th>\n",
       "      <td>3</td>\n",
       "      <td>0</td>\n",
       "      <td>0</td>\n",
       "    </tr>\n",
       "    <tr>\n",
       "      <th>12</th>\n",
       "      <td>3</td>\n",
       "      <td>0</td>\n",
       "      <td>0</td>\n",
       "    </tr>\n",
       "    <tr>\n",
       "      <th>13</th>\n",
       "      <td>3</td>\n",
       "      <td>0</td>\n",
       "      <td>0</td>\n",
       "    </tr>\n",
       "    <tr>\n",
       "      <th>14</th>\n",
       "      <td>3</td>\n",
       "      <td>0</td>\n",
       "      <td>0</td>\n",
       "    </tr>\n",
       "    <tr>\n",
       "      <th>15</th>\n",
       "      <td>2</td>\n",
       "      <td>0</td>\n",
       "      <td>0</td>\n",
       "    </tr>\n",
       "    <tr>\n",
       "      <th>16</th>\n",
       "      <td>2</td>\n",
       "      <td>0</td>\n",
       "      <td>0</td>\n",
       "    </tr>\n",
       "    <tr>\n",
       "      <th>17</th>\n",
       "      <td>1</td>\n",
       "      <td>1</td>\n",
       "      <td>1</td>\n",
       "    </tr>\n",
       "    <tr>\n",
       "      <th>18</th>\n",
       "      <td>1</td>\n",
       "      <td>1</td>\n",
       "      <td>1</td>\n",
       "    </tr>\n",
       "    <tr>\n",
       "      <th>19</th>\n",
       "      <td>1</td>\n",
       "      <td>0</td>\n",
       "      <td>0</td>\n",
       "    </tr>\n",
       "  </tbody>\n",
       "</table>\n",
       "</div>"
      ],
      "text/plain": [
       "    score_diff  post_runner_on_third  tying_run_on\n",
       "0            0                     0             0\n",
       "1            0                     0             0\n",
       "2            0                     0             0\n",
       "3            0                     0             0\n",
       "4            4                     0             0\n",
       "5            4                     0             0\n",
       "6            4                     1             0\n",
       "7            3                     0             0\n",
       "8            3                     0             0\n",
       "9            3                     0             0\n",
       "10           3                     0             0\n",
       "11           3                     0             0\n",
       "12           3                     0             0\n",
       "13           3                     0             0\n",
       "14           3                     0             0\n",
       "15           2                     0             0\n",
       "16           2                     0             0\n",
       "17           1                     1             1\n",
       "18           1                     1             1\n",
       "19           1                     0             0"
      ]
     },
     "execution_count": 25,
     "metadata": {},
     "output_type": "execute_result"
    }
   ],
   "source": [
    "data[['score_diff','post_runner_on_third', 'tying_run_on']].head(20)"
   ]
  },
  {
   "cell_type": "markdown",
   "metadata": {},
   "source": [
    "As seen on plates appearances 17 and 18, whenever the score difference is 1 and there is a player on third base, the 'tying_run_on' is  1. Can it be when 1 the difference is more than 1 point?"
   ]
  },
  {
   "cell_type": "code",
   "execution_count": 26,
   "metadata": {},
   "outputs": [
    {
     "data": {
      "text/html": [
       "<div>\n",
       "<style scoped>\n",
       "    .dataframe tbody tr th:only-of-type {\n",
       "        vertical-align: middle;\n",
       "    }\n",
       "\n",
       "    .dataframe tbody tr th {\n",
       "        vertical-align: top;\n",
       "    }\n",
       "\n",
       "    .dataframe thead th {\n",
       "        text-align: right;\n",
       "    }\n",
       "</style>\n",
       "<table border=\"1\" class=\"dataframe\">\n",
       "  <thead>\n",
       "    <tr style=\"text-align: right;\">\n",
       "      <th></th>\n",
       "      <th>score_diff</th>\n",
       "      <th>post_runner_on_third</th>\n",
       "      <th>post_runner_on_second</th>\n",
       "      <th>tying_run_on</th>\n",
       "    </tr>\n",
       "  </thead>\n",
       "  <tbody>\n",
       "    <tr>\n",
       "      <th>17</th>\n",
       "      <td>1</td>\n",
       "      <td>1</td>\n",
       "      <td>0</td>\n",
       "      <td>1</td>\n",
       "    </tr>\n",
       "    <tr>\n",
       "      <th>18</th>\n",
       "      <td>1</td>\n",
       "      <td>1</td>\n",
       "      <td>0</td>\n",
       "      <td>1</td>\n",
       "    </tr>\n",
       "    <tr>\n",
       "      <th>23</th>\n",
       "      <td>1</td>\n",
       "      <td>0</td>\n",
       "      <td>0</td>\n",
       "      <td>1</td>\n",
       "    </tr>\n",
       "    <tr>\n",
       "      <th>24</th>\n",
       "      <td>1</td>\n",
       "      <td>0</td>\n",
       "      <td>1</td>\n",
       "      <td>1</td>\n",
       "    </tr>\n",
       "    <tr>\n",
       "      <th>174</th>\n",
       "      <td>1</td>\n",
       "      <td>0</td>\n",
       "      <td>0</td>\n",
       "      <td>1</td>\n",
       "    </tr>\n",
       "    <tr>\n",
       "      <th>...</th>\n",
       "      <td>...</td>\n",
       "      <td>...</td>\n",
       "      <td>...</td>\n",
       "      <td>...</td>\n",
       "    </tr>\n",
       "    <tr>\n",
       "      <th>49502</th>\n",
       "      <td>1</td>\n",
       "      <td>0</td>\n",
       "      <td>1</td>\n",
       "      <td>1</td>\n",
       "    </tr>\n",
       "    <tr>\n",
       "      <th>49503</th>\n",
       "      <td>1</td>\n",
       "      <td>0</td>\n",
       "      <td>1</td>\n",
       "      <td>1</td>\n",
       "    </tr>\n",
       "    <tr>\n",
       "      <th>49504</th>\n",
       "      <td>1</td>\n",
       "      <td>0</td>\n",
       "      <td>1</td>\n",
       "      <td>1</td>\n",
       "    </tr>\n",
       "    <tr>\n",
       "      <th>49505</th>\n",
       "      <td>1</td>\n",
       "      <td>0</td>\n",
       "      <td>1</td>\n",
       "      <td>1</td>\n",
       "    </tr>\n",
       "    <tr>\n",
       "      <th>49506</th>\n",
       "      <td>1</td>\n",
       "      <td>0</td>\n",
       "      <td>1</td>\n",
       "      <td>1</td>\n",
       "    </tr>\n",
       "  </tbody>\n",
       "</table>\n",
       "<p>3772 rows × 4 columns</p>\n",
       "</div>"
      ],
      "text/plain": [
       "       score_diff  post_runner_on_third  post_runner_on_second  tying_run_on\n",
       "17              1                     1                      0             1\n",
       "18              1                     1                      0             1\n",
       "23              1                     0                      0             1\n",
       "24              1                     0                      1             1\n",
       "174             1                     0                      0             1\n",
       "...           ...                   ...                    ...           ...\n",
       "49502           1                     0                      1             1\n",
       "49503           1                     0                      1             1\n",
       "49504           1                     0                      1             1\n",
       "49505           1                     0                      1             1\n",
       "49506           1                     0                      1             1\n",
       "\n",
       "[3772 rows x 4 columns]"
      ]
     },
     "execution_count": 26,
     "metadata": {},
     "output_type": "execute_result"
    }
   ],
   "source": [
    "data.loc[data['tying_run_on']==1, ['score_diff','post_runner_on_third', 'post_runner_on_second', 'tying_run_on']]"
   ]
  },
  {
   "cell_type": "markdown",
   "metadata": {},
   "source": [
    "Not necesarily on third base, but on any base."
   ]
  },
  {
   "cell_type": "code",
   "execution_count": 27,
   "metadata": {},
   "outputs": [
    {
     "data": {
      "text/html": [
       "<div>\n",
       "<style scoped>\n",
       "    .dataframe tbody tr th:only-of-type {\n",
       "        vertical-align: middle;\n",
       "    }\n",
       "\n",
       "    .dataframe tbody tr th {\n",
       "        vertical-align: top;\n",
       "    }\n",
       "\n",
       "    .dataframe thead th {\n",
       "        text-align: right;\n",
       "    }\n",
       "</style>\n",
       "<table border=\"1\" class=\"dataframe\">\n",
       "  <thead>\n",
       "    <tr style=\"text-align: right;\">\n",
       "      <th></th>\n",
       "      <th>previously_walk</th>\n",
       "      <th>consec_walks</th>\n",
       "    </tr>\n",
       "  </thead>\n",
       "  <tbody>\n",
       "    <tr>\n",
       "      <th>70</th>\n",
       "      <td>0</td>\n",
       "      <td>0</td>\n",
       "    </tr>\n",
       "    <tr>\n",
       "      <th>71</th>\n",
       "      <td>0</td>\n",
       "      <td>0</td>\n",
       "    </tr>\n",
       "    <tr>\n",
       "      <th>72</th>\n",
       "      <td>1</td>\n",
       "      <td>0</td>\n",
       "    </tr>\n",
       "    <tr>\n",
       "      <th>73</th>\n",
       "      <td>1</td>\n",
       "      <td>1</td>\n",
       "    </tr>\n",
       "    <tr>\n",
       "      <th>74</th>\n",
       "      <td>0</td>\n",
       "      <td>0</td>\n",
       "    </tr>\n",
       "    <tr>\n",
       "      <th>...</th>\n",
       "      <td>...</td>\n",
       "      <td>...</td>\n",
       "    </tr>\n",
       "    <tr>\n",
       "      <th>49516</th>\n",
       "      <td>0</td>\n",
       "      <td>0</td>\n",
       "    </tr>\n",
       "    <tr>\n",
       "      <th>49517</th>\n",
       "      <td>1</td>\n",
       "      <td>0</td>\n",
       "    </tr>\n",
       "    <tr>\n",
       "      <th>49518</th>\n",
       "      <td>0</td>\n",
       "      <td>0</td>\n",
       "    </tr>\n",
       "    <tr>\n",
       "      <th>49519</th>\n",
       "      <td>1</td>\n",
       "      <td>0</td>\n",
       "    </tr>\n",
       "    <tr>\n",
       "      <th>49520</th>\n",
       "      <td>0</td>\n",
       "      <td>0</td>\n",
       "    </tr>\n",
       "  </tbody>\n",
       "</table>\n",
       "<p>49451 rows × 2 columns</p>\n",
       "</div>"
      ],
      "text/plain": [
       "       previously_walk  consec_walks\n",
       "70                   0             0\n",
       "71                   0             0\n",
       "72                   1             0\n",
       "73                   1             1\n",
       "74                   0             0\n",
       "...                ...           ...\n",
       "49516                0             0\n",
       "49517                1             0\n",
       "49518                0             0\n",
       "49519                1             0\n",
       "49520                0             0\n",
       "\n",
       "[49451 rows x 2 columns]"
      ]
     },
     "execution_count": 27,
     "metadata": {},
     "output_type": "execute_result"
    }
   ],
   "source": [
    "data.loc[70:, ['previously_walk', 'consec_walks']]"
   ]
  },
  {
   "cell_type": "code",
   "execution_count": 28,
   "metadata": {},
   "outputs": [
    {
     "data": {
      "text/plain": [
       "14"
      ]
     },
     "execution_count": 28,
     "metadata": {},
     "output_type": "execute_result"
    }
   ],
   "source": [
    "data.pitches_in_pa.max()"
   ]
  },
  {
   "cell_type": "code",
   "execution_count": 29,
   "metadata": {},
   "outputs": [
    {
     "data": {
      "text/plain": [
       "(14, 92.0, 89.02204869085898, 131)"
      ]
     },
     "execution_count": 29,
     "metadata": {},
     "output_type": "execute_result"
    }
   ],
   "source": [
    "pitches=data.loc[data.last_batter==1, 'pitch_total']\n",
    "pitches.min(), pitches.median(), pitches.mean(), pitches.max() "
   ]
  },
  {
   "cell_type": "code",
   "execution_count": 30,
   "metadata": {},
   "outputs": [
    {
     "data": {
      "text/html": [
       "<div>\n",
       "<style scoped>\n",
       "    .dataframe tbody tr th:only-of-type {\n",
       "        vertical-align: middle;\n",
       "    }\n",
       "\n",
       "    .dataframe tbody tr th {\n",
       "        vertical-align: top;\n",
       "    }\n",
       "\n",
       "    .dataframe thead th {\n",
       "        text-align: right;\n",
       "    }\n",
       "</style>\n",
       "<table border=\"1\" class=\"dataframe\">\n",
       "  <thead>\n",
       "    <tr style=\"text-align: right;\">\n",
       "      <th></th>\n",
       "      <th>pitches_in_pa</th>\n",
       "    </tr>\n",
       "    <tr>\n",
       "      <th>start_id</th>\n",
       "      <th></th>\n",
       "    </tr>\n",
       "  </thead>\n",
       "  <tbody>\n",
       "    <tr>\n",
       "      <th>2019/04/01/anamlb-seamlb-1_433587</th>\n",
       "      <td>92</td>\n",
       "    </tr>\n",
       "    <tr>\n",
       "      <th>2019/04/01/anamlb-seamlb-1_608717</th>\n",
       "      <td>82</td>\n",
       "    </tr>\n",
       "    <tr>\n",
       "      <th>2019/04/01/balmlb-tormlb-1_605276</th>\n",
       "      <td>82</td>\n",
       "    </tr>\n",
       "    <tr>\n",
       "      <th>2019/04/01/balmlb-tormlb-1_656887</th>\n",
       "      <td>52</td>\n",
       "    </tr>\n",
       "    <tr>\n",
       "      <th>2019/04/01/bosmlb-oakmlb-1_456034</th>\n",
       "      <td>93</td>\n",
       "    </tr>\n",
       "    <tr>\n",
       "      <th>...</th>\n",
       "      <td>...</td>\n",
       "    </tr>\n",
       "    <tr>\n",
       "      <th>2019/09/29/minmlb-kcamlb-1_605347</th>\n",
       "      <td>79</td>\n",
       "    </tr>\n",
       "    <tr>\n",
       "      <th>2019/09/29/nyamlb-texmlb-1_458681</th>\n",
       "      <td>98</td>\n",
       "    </tr>\n",
       "    <tr>\n",
       "      <th>2019/09/29/oakmlb-seamlb-1_543699</th>\n",
       "      <td>101</td>\n",
       "    </tr>\n",
       "    <tr>\n",
       "      <th>2019/09/29/tbamlb-tormlb-1_453329</th>\n",
       "      <td>78</td>\n",
       "    </tr>\n",
       "    <tr>\n",
       "      <th>2019/09/29/tbamlb-tormlb-1_605483</th>\n",
       "      <td>62</td>\n",
       "    </tr>\n",
       "  </tbody>\n",
       "</table>\n",
       "<p>2177 rows × 1 columns</p>\n",
       "</div>"
      ],
      "text/plain": [
       "                                   pitches_in_pa\n",
       "start_id                                        \n",
       "2019/04/01/anamlb-seamlb-1_433587             92\n",
       "2019/04/01/anamlb-seamlb-1_608717             82\n",
       "2019/04/01/balmlb-tormlb-1_605276             82\n",
       "2019/04/01/balmlb-tormlb-1_656887             52\n",
       "2019/04/01/bosmlb-oakmlb-1_456034             93\n",
       "...                                          ...\n",
       "2019/09/29/minmlb-kcamlb-1_605347             79\n",
       "2019/09/29/nyamlb-texmlb-1_458681             98\n",
       "2019/09/29/oakmlb-seamlb-1_543699            101\n",
       "2019/09/29/tbamlb-tormlb-1_453329             78\n",
       "2019/09/29/tbamlb-tormlb-1_605483             62\n",
       "\n",
       "[2177 rows x 1 columns]"
      ]
     },
     "execution_count": 30,
     "metadata": {},
     "output_type": "execute_result"
    }
   ],
   "source": [
    "data[['start_id', 'pitches_in_pa']].groupby('start_id').sum()"
   ]
  },
  {
   "cell_type": "code",
   "execution_count": 31,
   "metadata": {},
   "outputs": [],
   "source": [
    "data['inning_pa']=1\n",
    "data['inning_pa']=data[['start_id', 'inning', 'inning_pa']].groupby(['start_id', 'inning']).cumsum()"
   ]
  },
  {
   "cell_type": "code",
   "execution_count": 32,
   "metadata": {},
   "outputs": [
    {
     "data": {
      "text/html": [
       "<div>\n",
       "<style scoped>\n",
       "    .dataframe tbody tr th:only-of-type {\n",
       "        vertical-align: middle;\n",
       "    }\n",
       "\n",
       "    .dataframe tbody tr th {\n",
       "        vertical-align: top;\n",
       "    }\n",
       "\n",
       "    .dataframe thead th {\n",
       "        text-align: right;\n",
       "    }\n",
       "</style>\n",
       "<table border=\"1\" class=\"dataframe\">\n",
       "  <thead>\n",
       "    <tr style=\"text-align: right;\">\n",
       "      <th></th>\n",
       "      <th>start_id</th>\n",
       "      <th>pbp_idx</th>\n",
       "      <th>game_id</th>\n",
       "      <th>top_bot</th>\n",
       "      <th>inning</th>\n",
       "      <th>batter_stands</th>\n",
       "      <th>pitcher_id</th>\n",
       "      <th>throws</th>\n",
       "      <th>EventType</th>\n",
       "      <th>postouts</th>\n",
       "      <th>...</th>\n",
       "      <th>tying_run_on</th>\n",
       "      <th>total_outs_recorded</th>\n",
       "      <th>total_bases_allowed</th>\n",
       "      <th>next_batter_hand</th>\n",
       "      <th>opposite_hand</th>\n",
       "      <th>end_of_inning</th>\n",
       "      <th>previously_walk</th>\n",
       "      <th>consec_walks</th>\n",
       "      <th>last_batter</th>\n",
       "      <th>inning_pa</th>\n",
       "    </tr>\n",
       "  </thead>\n",
       "  <tbody>\n",
       "    <tr>\n",
       "      <th>24</th>\n",
       "      <td>2019/04/01/anamlb-seamlb-1_433587</td>\n",
       "      <td>25</td>\n",
       "      <td>2019/04/01/anamlb-seamlb-1</td>\n",
       "      <td>Y</td>\n",
       "      <td>6</td>\n",
       "      <td>R</td>\n",
       "      <td>433587</td>\n",
       "      <td>R</td>\n",
       "      <td>single</td>\n",
       "      <td>1</td>\n",
       "      <td>...</td>\n",
       "      <td>1</td>\n",
       "      <td>16</td>\n",
       "      <td>8</td>\n",
       "      <td>L</td>\n",
       "      <td>1.0</td>\n",
       "      <td>0</td>\n",
       "      <td>0</td>\n",
       "      <td>0</td>\n",
       "      <td>1</td>\n",
       "      <td>3</td>\n",
       "    </tr>\n",
       "    <tr>\n",
       "      <th>45</th>\n",
       "      <td>2019/04/01/anamlb-seamlb-1_608717</td>\n",
       "      <td>21</td>\n",
       "      <td>2019/04/01/anamlb-seamlb-1</td>\n",
       "      <td>N</td>\n",
       "      <td>5</td>\n",
       "      <td>R</td>\n",
       "      <td>608717</td>\n",
       "      <td>R</td>\n",
       "      <td>single</td>\n",
       "      <td>1</td>\n",
       "      <td>...</td>\n",
       "      <td>0</td>\n",
       "      <td>13</td>\n",
       "      <td>9</td>\n",
       "      <td>L</td>\n",
       "      <td>1.0</td>\n",
       "      <td>0</td>\n",
       "      <td>0</td>\n",
       "      <td>0</td>\n",
       "      <td>1</td>\n",
       "      <td>3</td>\n",
       "    </tr>\n",
       "    <tr>\n",
       "      <th>65</th>\n",
       "      <td>2019/04/01/balmlb-tormlb-1_605276</td>\n",
       "      <td>20</td>\n",
       "      <td>2019/04/01/balmlb-tormlb-1</td>\n",
       "      <td>N</td>\n",
       "      <td>7</td>\n",
       "      <td>R</td>\n",
       "      <td>605276</td>\n",
       "      <td>R</td>\n",
       "      <td>field_out</td>\n",
       "      <td>1</td>\n",
       "      <td>...</td>\n",
       "      <td>0</td>\n",
       "      <td>18</td>\n",
       "      <td>1</td>\n",
       "      <td>L</td>\n",
       "      <td>1.0</td>\n",
       "      <td>0</td>\n",
       "      <td>0</td>\n",
       "      <td>0</td>\n",
       "      <td>1</td>\n",
       "      <td>1</td>\n",
       "    </tr>\n",
       "    <tr>\n",
       "      <th>79</th>\n",
       "      <td>2019/04/01/balmlb-tormlb-1_656887</td>\n",
       "      <td>14</td>\n",
       "      <td>2019/04/01/balmlb-tormlb-1</td>\n",
       "      <td>Y</td>\n",
       "      <td>2</td>\n",
       "      <td>L</td>\n",
       "      <td>656887</td>\n",
       "      <td>R</td>\n",
       "      <td>field_out</td>\n",
       "      <td>3</td>\n",
       "      <td>...</td>\n",
       "      <td>0</td>\n",
       "      <td>5</td>\n",
       "      <td>10</td>\n",
       "      <td>R</td>\n",
       "      <td>0.0</td>\n",
       "      <td>1</td>\n",
       "      <td>0</td>\n",
       "      <td>0</td>\n",
       "      <td>1</td>\n",
       "      <td>5</td>\n",
       "    </tr>\n",
       "    <tr>\n",
       "      <th>104</th>\n",
       "      <td>2019/04/01/bosmlb-oakmlb-1_456034</td>\n",
       "      <td>25</td>\n",
       "      <td>2019/04/01/bosmlb-oakmlb-1</td>\n",
       "      <td>N</td>\n",
       "      <td>6</td>\n",
       "      <td>R</td>\n",
       "      <td>456034</td>\n",
       "      <td>L</td>\n",
       "      <td>field_out</td>\n",
       "      <td>3</td>\n",
       "      <td>...</td>\n",
       "      <td>0</td>\n",
       "      <td>17</td>\n",
       "      <td>17</td>\n",
       "      <td>R</td>\n",
       "      <td>1.0</td>\n",
       "      <td>1</td>\n",
       "      <td>0</td>\n",
       "      <td>0</td>\n",
       "      <td>1</td>\n",
       "      <td>5</td>\n",
       "    </tr>\n",
       "  </tbody>\n",
       "</table>\n",
       "<p>5 rows × 31 columns</p>\n",
       "</div>"
      ],
      "text/plain": [
       "                              start_id  pbp_idx                     game_id  \\\n",
       "24   2019/04/01/anamlb-seamlb-1_433587       25  2019/04/01/anamlb-seamlb-1   \n",
       "45   2019/04/01/anamlb-seamlb-1_608717       21  2019/04/01/anamlb-seamlb-1   \n",
       "65   2019/04/01/balmlb-tormlb-1_605276       20  2019/04/01/balmlb-tormlb-1   \n",
       "79   2019/04/01/balmlb-tormlb-1_656887       14  2019/04/01/balmlb-tormlb-1   \n",
       "104  2019/04/01/bosmlb-oakmlb-1_456034       25  2019/04/01/bosmlb-oakmlb-1   \n",
       "\n",
       "    top_bot  inning batter_stands  pitcher_id throws  EventType  postouts  \\\n",
       "24        Y       6             R      433587      R     single         1   \n",
       "45        N       5             R      608717      R     single         1   \n",
       "65        N       7             R      605276      R  field_out         1   \n",
       "79        Y       2             L      656887      R  field_out         3   \n",
       "104       N       6             R      456034      L  field_out         3   \n",
       "\n",
       "     ...  tying_run_on  total_outs_recorded  total_bases_allowed  \\\n",
       "24   ...             1                   16                    8   \n",
       "45   ...             0                   13                    9   \n",
       "65   ...             0                   18                    1   \n",
       "79   ...             0                    5                   10   \n",
       "104  ...             0                   17                   17   \n",
       "\n",
       "     next_batter_hand  opposite_hand end_of_inning  previously_walk  \\\n",
       "24                  L            1.0             0                0   \n",
       "45                  L            1.0             0                0   \n",
       "65                  L            1.0             0                0   \n",
       "79                  R            0.0             1                0   \n",
       "104                 R            1.0             1                0   \n",
       "\n",
       "     consec_walks  last_batter  inning_pa  \n",
       "24              0            1          3  \n",
       "45              0            1          3  \n",
       "65              0            1          1  \n",
       "79              0            1          5  \n",
       "104             0            1          5  \n",
       "\n",
       "[5 rows x 31 columns]"
      ]
     },
     "execution_count": 32,
     "metadata": {},
     "output_type": "execute_result"
    }
   ],
   "source": [
    "changes=data.loc[data.last_batter==1, :]\n",
    "no_changes=data.loc[data.last_batter==0, :]\n",
    "changes.head()"
   ]
  },
  {
   "cell_type": "code",
   "execution_count": 56,
   "metadata": {},
   "outputs": [
    {
     "data": {
      "image/png": "[encoded data removed]",
      "text/plain": [
       "<Figure size 432x288 with 1 Axes>"
      ]
     },
     "metadata": {
      "needs_background": "light"
     },
     "output_type": "display_data"
    }
   ],
   "source": [
    "plt.hist(changes['pitch_total'])\n",
    "plt.title('Distribution of plays per starting pitcher')\n",
    "plt.xlabel('Total Plays')\n",
    "plt.ylabel('No. of Pitchers')\n",
    "plt.show()"
   ]
  },
  {
   "cell_type": "code",
   "execution_count": 34,
   "metadata": {},
   "outputs": [
    {
     "data": {
      "image/png": "[encoded data removed]",
      "text/plain": [
       "<Figure size 432x288 with 1 Axes>"
      ]
     },
     "metadata": {
      "needs_background": "light"
     },
     "output_type": "display_data"
    }
   ],
   "source": [
    "plt.scatter(no_changes['pbp_idx'], no_changes['pitch_total'])\n",
    "plt.scatter(changes['pbp_idx'], changes['pitch_total'])\n",
    "plt.title('Plate appearance vs Pitch total')\n",
    "plt.xlabel('Plate appearance index')\n",
    "plt.ylabel('Pitch Total')\n",
    "\n",
    "plt.show()"
   ]
  },
  {
   "cell_type": "code",
   "execution_count": 67,
   "metadata": {
    "scrolled": true
   },
   "outputs": [
    {
     "data": {
      "image/png": "[encoded data removed]",
      "text/plain": [
       "<Figure size 432x288 with 1 Axes>"
      ]
     },
     "metadata": {
      "needs_background": "light"
     },
     "output_type": "display_data"
    },
    {
     "data": {
      "image/png": "[encoded data removed]",
      "text/plain": [
       "<Figure size 432x288 with 1 Axes>"
      ]
     },
     "metadata": {
      "needs_background": "light"
     },
     "output_type": "display_data"
    },
    {
     "data": {
      "image/png": "[encoded data removed]",
      "text/plain": [
       "<Figure size 432x288 with 1 Axes>"
      ]
     },
     "metadata": {
      "needs_background": "light"
     },
     "output_type": "display_data"
    },
    {
     "data": {
      "image/png": "[encoded data removed]",
      "text/plain": [
       "<Figure size 432x288 with 1 Axes>"
      ]
     },
     "metadata": {
      "needs_background": "light"
     },
     "output_type": "display_data"
    },
    {
     "data": {
      "image/png": "[encoded data removed]",
      "text/plain": [
       "<Figure size 432x288 with 1 Axes>"
      ]
     },
     "metadata": {
      "needs_background": "light"
     },
     "output_type": "display_data"
    },
    {
     "data": {
      "image/png": "[encoded data removed]",
      "text/plain": [
       "<Figure size 432x288 with 1 Axes>"
      ]
     },
     "metadata": {
      "needs_background": "light"
     },
     "output_type": "display_data"
    },
    {
     "data": {
      "image/png": "[encoded data removed]",
      "text/plain": [
       "<Figure size 432x288 with 1 Axes>"
      ]
     },
     "metadata": {
      "needs_background": "light"
     },
     "output_type": "display_data"
    }
   ],
   "source": [
    "raw=['inning', 'PostVisTeamScore', 'PostHomeTeamScore', 'er_total', 'total_outs_recorded', 'total_bases_allowed', 'score_diff']#['inning', 'batter_stands', 'throws', 'EventType', 'PostVisTeamScore', 'PostHomeTeamScore', 'home_away', 'pitches_in_pa', 'er_total', 'total_outs_recorded', 'total_bases_allowed', 'previously_walk', 'score_diff']\n",
    "for var in raw:\n",
    "    plt.hist(no_changes[var], bins=9, label='Normal batter')\n",
    "    plt.hist(changes[var], bins=9, label='Last batter')\n",
    "    plt.title(var)\n",
    "    plt.legend()\n",
    "    plt.show()"
   ]
  },
  {
   "cell_type": "code",
   "execution_count": 69,
   "metadata": {
    "scrolled": true
   },
   "outputs": [
    {
     "data": {
      "image/png": "[encoded data removed]",
      "text/plain": [
       "<Figure size 432x288 with 1 Axes>"
      ]
     },
     "metadata": {
      "needs_background": "light"
     },
     "output_type": "display_data"
    },
    {
     "data": {
      "image/png": "[encoded data removed]",
      "text/plain": [
       "<Figure size 432x288 with 1 Axes>"
      ]
     },
     "metadata": {
      "needs_background": "light"
     },
     "output_type": "display_data"
    },
    {
     "data": {
      "image/png": "[encoded data removed]",
      "text/plain": [
       "<Figure size 432x288 with 1 Axes>"
      ]
     },
     "metadata": {
      "needs_background": "light"
     },
     "output_type": "display_data"
    },
    {
     "data": {
      "image/png": "[encoded data removed]",
      "text/plain": [
       "<Figure size 432x288 with 1 Axes>"
      ]
     },
     "metadata": {
      "needs_background": "light"
     },
     "output_type": "display_data"
    },
    {
     "data": {
      "image/png": "[encoded data removed]",
      "text/plain": [
       "<Figure size 432x288 with 1 Axes>"
      ]
     },
     "metadata": {
      "needs_background": "light"
     },
     "output_type": "display_data"
    },
    {
     "data": {
      "image/png": "[encoded data removed]",
      "text/plain": [
       "<Figure size 432x288 with 1 Axes>"
      ]
     },
     "metadata": {
      "needs_background": "light"
     },
     "output_type": "display_data"
    }
   ],
   "source": [
    "raw=['inning', 'PostVisTeamScore', 'PostHomeTeamScore', 'er_total', 'total_outs_recorded', 'total_bases_allowed']#, 'batter_stands', 'throws', 'EventType', 'PostVisTeamScore', 'PostHomeTeamScore', 'home_away', 'pitches_in_pa', 'er_total', 'total_outs_recorded', 'total_bases_allowed', 'previously_walk', 'score_diff']\n",
    "for var in raw:\n",
    "    plt.scatter(no_changes['pbp_idx'], no_changes[var], label='Normal batter')\n",
    "    plt.scatter(changes['pbp_idx'], changes[var], label='Last Batter')\n",
    "    plt.title(var)\n",
    "    plt.ylabel(var)\n",
    "    plt.xlabel('Plate Appearance No.')\n",
    "    plt.legend()\n",
    "    plt.show()\n",
    "\n",
    "plt.show()"
   ]
  },
  {
   "cell_type": "code",
   "execution_count": 37,
   "metadata": {},
   "outputs": [
    {
     "data": {
      "text/html": [
       "<div>\n",
       "<style scoped>\n",
       "    .dataframe tbody tr th:only-of-type {\n",
       "        vertical-align: middle;\n",
       "    }\n",
       "\n",
       "    .dataframe tbody tr th {\n",
       "        vertical-align: top;\n",
       "    }\n",
       "\n",
       "    .dataframe thead th {\n",
       "        text-align: right;\n",
       "    }\n",
       "</style>\n",
       "<table border=\"1\" class=\"dataframe\">\n",
       "  <thead>\n",
       "    <tr style=\"text-align: right;\">\n",
       "      <th></th>\n",
       "      <th>start_id</th>\n",
       "      <th>pbp_idx</th>\n",
       "      <th>game_id</th>\n",
       "      <th>top_bot</th>\n",
       "      <th>inning</th>\n",
       "      <th>batter_stands</th>\n",
       "      <th>pitcher_id</th>\n",
       "      <th>throws</th>\n",
       "      <th>EventType</th>\n",
       "      <th>postouts</th>\n",
       "      <th>...</th>\n",
       "      <th>tying_run_on</th>\n",
       "      <th>total_outs_recorded</th>\n",
       "      <th>total_bases_allowed</th>\n",
       "      <th>next_batter_hand</th>\n",
       "      <th>opposite_hand</th>\n",
       "      <th>end_of_inning</th>\n",
       "      <th>previously_walk</th>\n",
       "      <th>consec_walks</th>\n",
       "      <th>last_batter</th>\n",
       "      <th>inning_pa</th>\n",
       "    </tr>\n",
       "  </thead>\n",
       "  <tbody>\n",
       "    <tr>\n",
       "      <th>0</th>\n",
       "      <td>2019/04/01/anamlb-seamlb-1_433587</td>\n",
       "      <td>1</td>\n",
       "      <td>2019/04/01/anamlb-seamlb-1</td>\n",
       "      <td>Y</td>\n",
       "      <td>1</td>\n",
       "      <td>L</td>\n",
       "      <td>433587</td>\n",
       "      <td>R</td>\n",
       "      <td>field_out</td>\n",
       "      <td>1</td>\n",
       "      <td>...</td>\n",
       "      <td>0</td>\n",
       "      <td>0</td>\n",
       "      <td>0</td>\n",
       "      <td>R</td>\n",
       "      <td>0.0</td>\n",
       "      <td>0</td>\n",
       "      <td>0</td>\n",
       "      <td>0</td>\n",
       "      <td>0</td>\n",
       "      <td>1</td>\n",
       "    </tr>\n",
       "    <tr>\n",
       "      <th>1</th>\n",
       "      <td>2019/04/01/anamlb-seamlb-1_433587</td>\n",
       "      <td>2</td>\n",
       "      <td>2019/04/01/anamlb-seamlb-1</td>\n",
       "      <td>Y</td>\n",
       "      <td>1</td>\n",
       "      <td>R</td>\n",
       "      <td>433587</td>\n",
       "      <td>R</td>\n",
       "      <td>hit_by_pitch</td>\n",
       "      <td>1</td>\n",
       "      <td>...</td>\n",
       "      <td>0</td>\n",
       "      <td>1</td>\n",
       "      <td>0</td>\n",
       "      <td>L</td>\n",
       "      <td>1.0</td>\n",
       "      <td>0</td>\n",
       "      <td>0</td>\n",
       "      <td>0</td>\n",
       "      <td>0</td>\n",
       "      <td>2</td>\n",
       "    </tr>\n",
       "    <tr>\n",
       "      <th>2</th>\n",
       "      <td>2019/04/01/anamlb-seamlb-1_433587</td>\n",
       "      <td>3</td>\n",
       "      <td>2019/04/01/anamlb-seamlb-1</td>\n",
       "      <td>Y</td>\n",
       "      <td>1</td>\n",
       "      <td>L</td>\n",
       "      <td>433587</td>\n",
       "      <td>R</td>\n",
       "      <td>force_out</td>\n",
       "      <td>2</td>\n",
       "      <td>...</td>\n",
       "      <td>0</td>\n",
       "      <td>1</td>\n",
       "      <td>1</td>\n",
       "      <td>R</td>\n",
       "      <td>0.0</td>\n",
       "      <td>0</td>\n",
       "      <td>0</td>\n",
       "      <td>0</td>\n",
       "      <td>0</td>\n",
       "      <td>3</td>\n",
       "    </tr>\n",
       "    <tr>\n",
       "      <th>3</th>\n",
       "      <td>2019/04/01/anamlb-seamlb-1_433587</td>\n",
       "      <td>4</td>\n",
       "      <td>2019/04/01/anamlb-seamlb-1</td>\n",
       "      <td>Y</td>\n",
       "      <td>1</td>\n",
       "      <td>R</td>\n",
       "      <td>433587</td>\n",
       "      <td>R</td>\n",
       "      <td>field_out</td>\n",
       "      <td>3</td>\n",
       "      <td>...</td>\n",
       "      <td>0</td>\n",
       "      <td>2</td>\n",
       "      <td>1</td>\n",
       "      <td>R</td>\n",
       "      <td>0.0</td>\n",
       "      <td>1</td>\n",
       "      <td>0</td>\n",
       "      <td>0</td>\n",
       "      <td>0</td>\n",
       "      <td>4</td>\n",
       "    </tr>\n",
       "    <tr>\n",
       "      <th>4</th>\n",
       "      <td>2019/04/01/anamlb-seamlb-1_433587</td>\n",
       "      <td>5</td>\n",
       "      <td>2019/04/01/anamlb-seamlb-1</td>\n",
       "      <td>Y</td>\n",
       "      <td>2</td>\n",
       "      <td>R</td>\n",
       "      <td>433587</td>\n",
       "      <td>R</td>\n",
       "      <td>single</td>\n",
       "      <td>0</td>\n",
       "      <td>...</td>\n",
       "      <td>0</td>\n",
       "      <td>3</td>\n",
       "      <td>1</td>\n",
       "      <td>L</td>\n",
       "      <td>1.0</td>\n",
       "      <td>0</td>\n",
       "      <td>0</td>\n",
       "      <td>0</td>\n",
       "      <td>0</td>\n",
       "      <td>1</td>\n",
       "    </tr>\n",
       "  </tbody>\n",
       "</table>\n",
       "<p>5 rows × 31 columns</p>\n",
       "</div>"
      ],
      "text/plain": [
       "                            start_id  pbp_idx                     game_id  \\\n",
       "0  2019/04/01/anamlb-seamlb-1_433587        1  2019/04/01/anamlb-seamlb-1   \n",
       "1  2019/04/01/anamlb-seamlb-1_433587        2  2019/04/01/anamlb-seamlb-1   \n",
       "2  2019/04/01/anamlb-seamlb-1_433587        3  2019/04/01/anamlb-seamlb-1   \n",
       "3  2019/04/01/anamlb-seamlb-1_433587        4  2019/04/01/anamlb-seamlb-1   \n",
       "4  2019/04/01/anamlb-seamlb-1_433587        5  2019/04/01/anamlb-seamlb-1   \n",
       "\n",
       "  top_bot  inning batter_stands  pitcher_id throws     EventType  postouts  \\\n",
       "0       Y       1             L      433587      R     field_out         1   \n",
       "1       Y       1             R      433587      R  hit_by_pitch         1   \n",
       "2       Y       1             L      433587      R     force_out         2   \n",
       "3       Y       1             R      433587      R     field_out         3   \n",
       "4       Y       2             R      433587      R        single         0   \n",
       "\n",
       "   ...  tying_run_on  total_outs_recorded  total_bases_allowed  \\\n",
       "0  ...             0                    0                    0   \n",
       "1  ...             0                    1                    0   \n",
       "2  ...             0                    1                    1   \n",
       "3  ...             0                    2                    1   \n",
       "4  ...             0                    3                    1   \n",
       "\n",
       "   next_batter_hand  opposite_hand end_of_inning  previously_walk  \\\n",
       "0                 R            0.0             0                0   \n",
       "1                 L            1.0             0                0   \n",
       "2                 R            0.0             0                0   \n",
       "3                 R            0.0             1                0   \n",
       "4                 L            1.0             0                0   \n",
       "\n",
       "   consec_walks  last_batter  inning_pa  \n",
       "0             0            0          1  \n",
       "1             0            0          2  \n",
       "2             0            0          3  \n",
       "3             0            0          4  \n",
       "4             0            0          1  \n",
       "\n",
       "[5 rows x 31 columns]"
      ]
     },
     "execution_count": 37,
     "metadata": {},
     "output_type": "execute_result"
    }
   ],
   "source": [
    "data.head()"
   ]
  },
  {
   "cell_type": "markdown",
   "metadata": {},
   "source": [
    "New column, if the game was the second on a double header. However, were there pitchers that started on both games?"
   ]
  },
  {
   "cell_type": "code",
   "execution_count": 38,
   "metadata": {},
   "outputs": [],
   "source": [
    "data['double_header']=data.game_id.apply(lambda x:x[-1])"
   ]
  },
  {
   "cell_type": "code",
   "execution_count": 39,
   "metadata": {},
   "outputs": [],
   "source": [
    "game_pitcher=data[['game_id', 'pitcher_id']]\n",
    "game_pitcher=game_pitcher.groupby(['game_id', 'pitcher_id'])\n",
    "game_pitcher=game_pitcher.count()\n",
    "game_pitcher=game_pitcher.reset_index()\n",
    "game_pitcher=game_pitcher.sort_values('game_id')\n",
    "\n",
    "for i in range(len(game_pitcher)-1):\n",
    "    if game_pitcher.pitcher_id[i]==game_pitcher.pitcher_id[i+1]:\n",
    "        print('yes')"
   ]
  },
  {
   "cell_type": "markdown",
   "metadata": {},
   "source": [
    "A pitcher never started on both games of a double header. Were there any other changes?"
   ]
  },
  {
   "cell_type": "code",
   "execution_count": 40,
   "metadata": {},
   "outputs": [],
   "source": [
    "first=data.loc[data['double_header']=='1', 'pitch_total']\n",
    "second=data.loc[data['double_header']=='2', 'pitch_total']"
   ]
  },
  {
   "cell_type": "code",
   "execution_count": 41,
   "metadata": {},
   "outputs": [
    {
     "data": {
      "text/plain": [
       "(48660,)"
      ]
     },
     "execution_count": 41,
     "metadata": {},
     "output_type": "execute_result"
    }
   ],
   "source": [
    "first.shape"
   ]
  },
  {
   "cell_type": "code",
   "execution_count": 42,
   "metadata": {},
   "outputs": [
    {
     "name": "stdout",
     "output_type": "stream",
     "text": [
      "47.915803534730784\n",
      "47.063879210220676\n"
     ]
    }
   ],
   "source": [
    "print(first.mean())\n",
    "print(second.mean())"
   ]
  },
  {
   "cell_type": "markdown",
   "metadata": {},
   "source": [
    "They threw for the same number of pitches, on average."
   ]
  },
  {
   "cell_type": "code",
   "execution_count": 43,
   "metadata": {},
   "outputs": [
    {
     "data": {
      "text/html": [
       "<div>\n",
       "<style scoped>\n",
       "    .dataframe tbody tr th:only-of-type {\n",
       "        vertical-align: middle;\n",
       "    }\n",
       "\n",
       "    .dataframe tbody tr th {\n",
       "        vertical-align: top;\n",
       "    }\n",
       "\n",
       "    .dataframe thead th {\n",
       "        text-align: right;\n",
       "    }\n",
       "</style>\n",
       "<table border=\"1\" class=\"dataframe\">\n",
       "  <thead>\n",
       "    <tr style=\"text-align: right;\">\n",
       "      <th></th>\n",
       "      <th>EventType</th>\n",
       "      <th>pitch_total</th>\n",
       "    </tr>\n",
       "  </thead>\n",
       "  <tbody>\n",
       "    <tr>\n",
       "      <th>9</th>\n",
       "      <td>field_out</td>\n",
       "      <td>20012</td>\n",
       "    </tr>\n",
       "    <tr>\n",
       "      <th>27</th>\n",
       "      <td>strikeout</td>\n",
       "      <td>10608</td>\n",
       "    </tr>\n",
       "    <tr>\n",
       "      <th>26</th>\n",
       "      <td>single</td>\n",
       "      <td>7051</td>\n",
       "    </tr>\n",
       "    <tr>\n",
       "      <th>31</th>\n",
       "      <td>walk</td>\n",
       "      <td>3568</td>\n",
       "    </tr>\n",
       "    <tr>\n",
       "      <th>5</th>\n",
       "      <td>double</td>\n",
       "      <td>2380</td>\n",
       "    </tr>\n",
       "    <tr>\n",
       "      <th>15</th>\n",
       "      <td>home_run</td>\n",
       "      <td>1993</td>\n",
       "    </tr>\n",
       "    <tr>\n",
       "      <th>13</th>\n",
       "      <td>grounded_into_double_play</td>\n",
       "      <td>909</td>\n",
       "    </tr>\n",
       "    <tr>\n",
       "      <th>12</th>\n",
       "      <td>force_out</td>\n",
       "      <td>905</td>\n",
       "    </tr>\n",
       "    <tr>\n",
       "      <th>14</th>\n",
       "      <td>hit_by_pitch</td>\n",
       "      <td>489</td>\n",
       "    </tr>\n",
       "    <tr>\n",
       "      <th>8</th>\n",
       "      <td>field_error</td>\n",
       "      <td>365</td>\n",
       "    </tr>\n",
       "    <tr>\n",
       "      <th>24</th>\n",
       "      <td>sac_fly</td>\n",
       "      <td>283</td>\n",
       "    </tr>\n",
       "    <tr>\n",
       "      <th>29</th>\n",
       "      <td>triple</td>\n",
       "      <td>225</td>\n",
       "    </tr>\n",
       "    <tr>\n",
       "      <th>17</th>\n",
       "      <td>other_out</td>\n",
       "      <td>124</td>\n",
       "    </tr>\n",
       "    <tr>\n",
       "      <th>6</th>\n",
       "      <td>double_play</td>\n",
       "      <td>108</td>\n",
       "    </tr>\n",
       "    <tr>\n",
       "      <th>23</th>\n",
       "      <td>sac_bunt</td>\n",
       "      <td>99</td>\n",
       "    </tr>\n",
       "    <tr>\n",
       "      <th>10</th>\n",
       "      <td>fielders_choice</td>\n",
       "      <td>98</td>\n",
       "    </tr>\n",
       "    <tr>\n",
       "      <th>11</th>\n",
       "      <td>fielders_choice_out</td>\n",
       "      <td>74</td>\n",
       "    </tr>\n",
       "    <tr>\n",
       "      <th>2</th>\n",
       "      <td>caught_stealing_2b</td>\n",
       "      <td>58</td>\n",
       "    </tr>\n",
       "    <tr>\n",
       "      <th>28</th>\n",
       "      <td>strikeout_double_play</td>\n",
       "      <td>54</td>\n",
       "    </tr>\n",
       "    <tr>\n",
       "      <th>16</th>\n",
       "      <td>intent_walk</td>\n",
       "      <td>43</td>\n",
       "    </tr>\n",
       "    <tr>\n",
       "      <th>1</th>\n",
       "      <td>catcher_interf</td>\n",
       "      <td>18</td>\n",
       "    </tr>\n",
       "    <tr>\n",
       "      <th>20</th>\n",
       "      <td>pickoff_caught_stealing_2b</td>\n",
       "      <td>17</td>\n",
       "    </tr>\n",
       "    <tr>\n",
       "      <th>18</th>\n",
       "      <td>pickoff_1b</td>\n",
       "      <td>13</td>\n",
       "    </tr>\n",
       "    <tr>\n",
       "      <th>25</th>\n",
       "      <td>sac_fly_double_play</td>\n",
       "      <td>5</td>\n",
       "    </tr>\n",
       "    <tr>\n",
       "      <th>4</th>\n",
       "      <td>caught_stealing_home</td>\n",
       "      <td>5</td>\n",
       "    </tr>\n",
       "    <tr>\n",
       "      <th>3</th>\n",
       "      <td>caught_stealing_3b</td>\n",
       "      <td>4</td>\n",
       "    </tr>\n",
       "    <tr>\n",
       "      <th>19</th>\n",
       "      <td>pickoff_2b</td>\n",
       "      <td>3</td>\n",
       "    </tr>\n",
       "    <tr>\n",
       "      <th>7</th>\n",
       "      <td>fan_interference</td>\n",
       "      <td>3</td>\n",
       "    </tr>\n",
       "    <tr>\n",
       "      <th>30</th>\n",
       "      <td>triple_play</td>\n",
       "      <td>3</td>\n",
       "    </tr>\n",
       "    <tr>\n",
       "      <th>22</th>\n",
       "      <td>runner_double_play</td>\n",
       "      <td>2</td>\n",
       "    </tr>\n",
       "    <tr>\n",
       "      <th>21</th>\n",
       "      <td>pickoff_caught_stealing_home</td>\n",
       "      <td>1</td>\n",
       "    </tr>\n",
       "    <tr>\n",
       "      <th>0</th>\n",
       "      <td>batter_interference</td>\n",
       "      <td>1</td>\n",
       "    </tr>\n",
       "  </tbody>\n",
       "</table>\n",
       "</div>"
      ],
      "text/plain": [
       "                       EventType  pitch_total\n",
       "9                      field_out        20012\n",
       "27                     strikeout        10608\n",
       "26                        single         7051\n",
       "31                          walk         3568\n",
       "5                         double         2380\n",
       "15                      home_run         1993\n",
       "13     grounded_into_double_play          909\n",
       "12                     force_out          905\n",
       "14                  hit_by_pitch          489\n",
       "8                    field_error          365\n",
       "24                       sac_fly          283\n",
       "29                        triple          225\n",
       "17                     other_out          124\n",
       "6                    double_play          108\n",
       "23                      sac_bunt           99\n",
       "10               fielders_choice           98\n",
       "11           fielders_choice_out           74\n",
       "2             caught_stealing_2b           58\n",
       "28         strikeout_double_play           54\n",
       "16                   intent_walk           43\n",
       "1                 catcher_interf           18\n",
       "20    pickoff_caught_stealing_2b           17\n",
       "18                    pickoff_1b           13\n",
       "25           sac_fly_double_play            5\n",
       "4           caught_stealing_home            5\n",
       "3             caught_stealing_3b            4\n",
       "19                    pickoff_2b            3\n",
       "7               fan_interference            3\n",
       "30                   triple_play            3\n",
       "22            runner_double_play            2\n",
       "21  pickoff_caught_stealing_home            1\n",
       "0            batter_interference            1"
      ]
     },
     "execution_count": 43,
     "metadata": {},
     "output_type": "execute_result"
    }
   ],
   "source": [
    "data[['EventType', 'pitch_total']].groupby('EventType').count().reset_index().sort_values('pitch_total', ascending=False)"
   ]
  },
  {
   "cell_type": "code",
   "execution_count": 44,
   "metadata": {},
   "outputs": [
    {
     "data": {
      "text/plain": [
       "9     0.404111\n",
       "27    0.214212\n",
       "26    0.142384\n",
       "31    0.072050\n",
       "5     0.048060\n",
       "15    0.040246\n",
       "13    0.018356\n",
       "12    0.018275\n",
       "14    0.009875\n",
       "8     0.007371\n",
       "24    0.005715\n",
       "29    0.004544\n",
       "17    0.002504\n",
       "6     0.002181\n",
       "23    0.001999\n",
       "10    0.001979\n",
       "11    0.001494\n",
       "2     0.001171\n",
       "28    0.001090\n",
       "16    0.000868\n",
       "1     0.000363\n",
       "20    0.000343\n",
       "18    0.000263\n",
       "25    0.000101\n",
       "4     0.000101\n",
       "3     0.000081\n",
       "19    0.000061\n",
       "7     0.000061\n",
       "30    0.000061\n",
       "22    0.000040\n",
       "21    0.000020\n",
       "0     0.000020\n",
       "Name: pitch_total, dtype: float64"
      ]
     },
     "execution_count": 44,
     "metadata": {},
     "output_type": "execute_result"
    }
   ],
   "source": [
    "data[['EventType', 'pitch_total']].groupby('EventType').count().reset_index().sort_values('pitch_total', ascending=False)['pitch_total']/len(data)"
   ]
  },
  {
   "cell_type": "markdown",
   "metadata": {},
   "source": [
    "Is there any difference on the next batter?"
   ]
  },
  {
   "cell_type": "code",
   "execution_count": 45,
   "metadata": {},
   "outputs": [
    {
     "name": "stdout",
     "output_type": "stream",
     "text": [
      "Distribution of no changes:\n",
      "R    0.595408\n",
      "L    0.404592\n",
      "Name: next_batter_hand, dtype: float64\n",
      "Distribution of changes:\n",
      "R    0.579237\n",
      "L    0.415710\n",
      "Name: next_batter_hand, dtype: float64\n"
     ]
    }
   ],
   "source": [
    "print('Distribution of no changes:')\n",
    "print(no_changes['next_batter_hand'].value_counts()/len(no_changes) )\n",
    "\n",
    "print('Distribution of changes:')\n",
    "print(changes['next_batter_hand'].value_counts()/len(changes) )\n"
   ]
  },
  {
   "cell_type": "markdown",
   "metadata": {},
   "source": [
    "Not very visible. Maybe if they throw opposite?"
   ]
  },
  {
   "cell_type": "code",
   "execution_count": 72,
   "metadata": {},
   "outputs": [
    {
     "name": "stdout",
     "output_type": "stream",
     "text": [
      "Percentage of next opposing hand during changes:  0.6440443213296398\n",
      "Percentage of next opposing hand during normal plays:  0.5880364988171679\n"
     ]
    },
    {
     "name": "stderr",
     "output_type": "stream",
     "text": [
      "<ipython-input-72-70970119a473>:1: SettingWithCopyWarning: \n",
      "A value is trying to be set on a copy of a slice from a DataFrame.\n",
      "Try using .loc[row_indexer,col_indexer] = value instead\n",
      "\n",
      "See the caveats in the documentation: https://pandas.pydata.org/pandas-docs/stable/user_guide/indexing.html#returning-a-view-versus-a-copy\n",
      "  changes['next_opposite']=changes['throws']!=changes['next_batter_hand']\n",
      "<ipython-input-72-70970119a473>:2: SettingWithCopyWarning: \n",
      "A value is trying to be set on a copy of a slice from a DataFrame.\n",
      "Try using .loc[row_indexer,col_indexer] = value instead\n",
      "\n",
      "See the caveats in the documentation: https://pandas.pydata.org/pandas-docs/stable/user_guide/indexing.html#returning-a-view-versus-a-copy\n",
      "  no_changes['next_opposite']=no_changes['throws']!=no_changes['next_batter_hand']\n"
     ]
    }
   ],
   "source": [
    "print('Percentage of next opposing hand during changes: ', changes['opposite_hand'].mean())\n",
    "print('Percentage of next opposing hand during normal plays: ', no_changes['opposite_hand'].mean())"
   ]
  },
  {
   "cell_type": "markdown",
   "metadata": {},
   "source": [
    "There seem to be an influence if the next batter uses the opposite hand."
   ]
  },
  {
   "cell_type": "markdown",
   "metadata": {},
   "source": [
    "When is the pitcher being pulled off? At the beginning of the inning, middle or end? \n",
    "(That may influence wheteher to use an accumulate of the variables on current inning as a training variable)"
   ]
  },
  {
   "cell_type": "code",
   "execution_count": 47,
   "metadata": {},
   "outputs": [
    {
     "data": {
      "text/html": [
       "<div>\n",
       "<style scoped>\n",
       "    .dataframe tbody tr th:only-of-type {\n",
       "        vertical-align: middle;\n",
       "    }\n",
       "\n",
       "    .dataframe tbody tr th {\n",
       "        vertical-align: top;\n",
       "    }\n",
       "\n",
       "    .dataframe thead th {\n",
       "        text-align: right;\n",
       "    }\n",
       "</style>\n",
       "<table border=\"1\" class=\"dataframe\">\n",
       "  <thead>\n",
       "    <tr style=\"text-align: right;\">\n",
       "      <th></th>\n",
       "      <th>start_id</th>\n",
       "      <th>pbp_idx</th>\n",
       "      <th>game_id</th>\n",
       "      <th>top_bot</th>\n",
       "      <th>inning</th>\n",
       "      <th>batter_stands</th>\n",
       "      <th>pitcher_id</th>\n",
       "      <th>throws</th>\n",
       "      <th>EventType</th>\n",
       "      <th>postouts</th>\n",
       "      <th>...</th>\n",
       "      <th>total_outs_recorded</th>\n",
       "      <th>total_bases_allowed</th>\n",
       "      <th>next_batter_hand</th>\n",
       "      <th>opposite_hand</th>\n",
       "      <th>end_of_inning</th>\n",
       "      <th>previously_walk</th>\n",
       "      <th>consec_walks</th>\n",
       "      <th>last_batter</th>\n",
       "      <th>inning_pa</th>\n",
       "      <th>next_opposite</th>\n",
       "    </tr>\n",
       "  </thead>\n",
       "  <tbody>\n",
       "    <tr>\n",
       "      <th>24</th>\n",
       "      <td>2019/04/01/anamlb-seamlb-1_433587</td>\n",
       "      <td>25</td>\n",
       "      <td>2019/04/01/anamlb-seamlb-1</td>\n",
       "      <td>Y</td>\n",
       "      <td>6</td>\n",
       "      <td>R</td>\n",
       "      <td>433587</td>\n",
       "      <td>R</td>\n",
       "      <td>single</td>\n",
       "      <td>1</td>\n",
       "      <td>...</td>\n",
       "      <td>16</td>\n",
       "      <td>8</td>\n",
       "      <td>L</td>\n",
       "      <td>1.0</td>\n",
       "      <td>0</td>\n",
       "      <td>0</td>\n",
       "      <td>0</td>\n",
       "      <td>1</td>\n",
       "      <td>3</td>\n",
       "      <td>True</td>\n",
       "    </tr>\n",
       "    <tr>\n",
       "      <th>45</th>\n",
       "      <td>2019/04/01/anamlb-seamlb-1_608717</td>\n",
       "      <td>21</td>\n",
       "      <td>2019/04/01/anamlb-seamlb-1</td>\n",
       "      <td>N</td>\n",
       "      <td>5</td>\n",
       "      <td>R</td>\n",
       "      <td>608717</td>\n",
       "      <td>R</td>\n",
       "      <td>single</td>\n",
       "      <td>1</td>\n",
       "      <td>...</td>\n",
       "      <td>13</td>\n",
       "      <td>9</td>\n",
       "      <td>L</td>\n",
       "      <td>1.0</td>\n",
       "      <td>0</td>\n",
       "      <td>0</td>\n",
       "      <td>0</td>\n",
       "      <td>1</td>\n",
       "      <td>3</td>\n",
       "      <td>True</td>\n",
       "    </tr>\n",
       "    <tr>\n",
       "      <th>65</th>\n",
       "      <td>2019/04/01/balmlb-tormlb-1_605276</td>\n",
       "      <td>20</td>\n",
       "      <td>2019/04/01/balmlb-tormlb-1</td>\n",
       "      <td>N</td>\n",
       "      <td>7</td>\n",
       "      <td>R</td>\n",
       "      <td>605276</td>\n",
       "      <td>R</td>\n",
       "      <td>field_out</td>\n",
       "      <td>1</td>\n",
       "      <td>...</td>\n",
       "      <td>18</td>\n",
       "      <td>1</td>\n",
       "      <td>L</td>\n",
       "      <td>1.0</td>\n",
       "      <td>0</td>\n",
       "      <td>0</td>\n",
       "      <td>0</td>\n",
       "      <td>1</td>\n",
       "      <td>1</td>\n",
       "      <td>True</td>\n",
       "    </tr>\n",
       "    <tr>\n",
       "      <th>79</th>\n",
       "      <td>2019/04/01/balmlb-tormlb-1_656887</td>\n",
       "      <td>14</td>\n",
       "      <td>2019/04/01/balmlb-tormlb-1</td>\n",
       "      <td>Y</td>\n",
       "      <td>2</td>\n",
       "      <td>L</td>\n",
       "      <td>656887</td>\n",
       "      <td>R</td>\n",
       "      <td>field_out</td>\n",
       "      <td>3</td>\n",
       "      <td>...</td>\n",
       "      <td>5</td>\n",
       "      <td>10</td>\n",
       "      <td>R</td>\n",
       "      <td>0.0</td>\n",
       "      <td>1</td>\n",
       "      <td>0</td>\n",
       "      <td>0</td>\n",
       "      <td>1</td>\n",
       "      <td>5</td>\n",
       "      <td>False</td>\n",
       "    </tr>\n",
       "    <tr>\n",
       "      <th>104</th>\n",
       "      <td>2019/04/01/bosmlb-oakmlb-1_456034</td>\n",
       "      <td>25</td>\n",
       "      <td>2019/04/01/bosmlb-oakmlb-1</td>\n",
       "      <td>N</td>\n",
       "      <td>6</td>\n",
       "      <td>R</td>\n",
       "      <td>456034</td>\n",
       "      <td>L</td>\n",
       "      <td>field_out</td>\n",
       "      <td>3</td>\n",
       "      <td>...</td>\n",
       "      <td>17</td>\n",
       "      <td>17</td>\n",
       "      <td>R</td>\n",
       "      <td>1.0</td>\n",
       "      <td>1</td>\n",
       "      <td>0</td>\n",
       "      <td>0</td>\n",
       "      <td>1</td>\n",
       "      <td>5</td>\n",
       "      <td>True</td>\n",
       "    </tr>\n",
       "  </tbody>\n",
       "</table>\n",
       "<p>5 rows × 32 columns</p>\n",
       "</div>"
      ],
      "text/plain": [
       "                              start_id  pbp_idx                     game_id  \\\n",
       "24   2019/04/01/anamlb-seamlb-1_433587       25  2019/04/01/anamlb-seamlb-1   \n",
       "45   2019/04/01/anamlb-seamlb-1_608717       21  2019/04/01/anamlb-seamlb-1   \n",
       "65   2019/04/01/balmlb-tormlb-1_605276       20  2019/04/01/balmlb-tormlb-1   \n",
       "79   2019/04/01/balmlb-tormlb-1_656887       14  2019/04/01/balmlb-tormlb-1   \n",
       "104  2019/04/01/bosmlb-oakmlb-1_456034       25  2019/04/01/bosmlb-oakmlb-1   \n",
       "\n",
       "    top_bot  inning batter_stands  pitcher_id throws  EventType  postouts  \\\n",
       "24        Y       6             R      433587      R     single         1   \n",
       "45        N       5             R      608717      R     single         1   \n",
       "65        N       7             R      605276      R  field_out         1   \n",
       "79        Y       2             L      656887      R  field_out         3   \n",
       "104       N       6             R      456034      L  field_out         3   \n",
       "\n",
       "     ...  total_outs_recorded  total_bases_allowed  next_batter_hand  \\\n",
       "24   ...                   16                    8                 L   \n",
       "45   ...                   13                    9                 L   \n",
       "65   ...                   18                    1                 L   \n",
       "79   ...                    5                   10                 R   \n",
       "104  ...                   17                   17                 R   \n",
       "\n",
       "     opposite_hand  end_of_inning previously_walk  consec_walks  last_batter  \\\n",
       "24             1.0              0               0             0            1   \n",
       "45             1.0              0               0             0            1   \n",
       "65             1.0              0               0             0            1   \n",
       "79             0.0              1               0             0            1   \n",
       "104            1.0              1               0             0            1   \n",
       "\n",
       "     inning_pa  next_opposite  \n",
       "24           3           True  \n",
       "45           3           True  \n",
       "65           1           True  \n",
       "79           5          False  \n",
       "104          5           True  \n",
       "\n",
       "[5 rows x 32 columns]"
      ]
     },
     "execution_count": 47,
     "metadata": {},
     "output_type": "execute_result"
    }
   ],
   "source": [
    "changes.head()"
   ]
  },
  {
   "cell_type": "code",
   "execution_count": 48,
   "metadata": {},
   "outputs": [
    {
     "data": {
      "image/png": "[encoded data removed]",
      "text/plain": [
       "<Figure size 432x288 with 1 Axes>"
      ]
     },
     "metadata": {
      "needs_background": "light"
     },
     "output_type": "display_data"
    },
    {
     "data": {
      "text/plain": [
       "end_of_inning    0.570051\n",
       "inning_pa        3.957740\n",
       "dtype: float64"
      ]
     },
     "execution_count": 48,
     "metadata": {},
     "output_type": "execute_result"
    }
   ],
   "source": [
    "pa_changes = changes[['end_of_inning', 'inning_pa']]\n",
    "plt.hist(pa_changes.inning_pa)\n",
    "plt.show()\n",
    "pa_changes.mean()"
   ]
  },
  {
   "cell_type": "code",
   "execution_count": 49,
   "metadata": {},
   "outputs": [
    {
     "data": {
      "image/png": "[encoded data removed]",
      "text/plain": [
       "<Figure size 432x288 with 1 Axes>"
      ]
     },
     "metadata": {
      "needs_background": "light"
     },
     "output_type": "display_data"
    },
    {
     "data": {
      "text/plain": [
       "4.093240796620399"
      ]
     },
     "execution_count": 49,
     "metadata": {},
     "output_type": "execute_result"
    }
   ],
   "source": [
    "pa_nochanges = no_changes.loc[no_changes['end_of_inning']==1, 'inning_pa']\n",
    "plt.hist(pa_nochanges)\n",
    "plt.show()\n",
    "pa_nochanges.mean()"
   ]
  },
  {
   "cell_type": "markdown",
   "metadata": {},
   "source": [
    "There is a slightly difference on the mean number of plate appearances when they changed. The distribution also changes slightly. Therefore, it may be a good idea to include variables not only accumulating through the whole game, but also the distribution of their value thorugh the same inning. \n",
    "This is confirmed as only 57% of the end of pitchers were changed at the inning that they were playing."
   ]
  },
  {
   "cell_type": "markdown",
   "metadata": {},
   "source": [
    "What players scored more at the time of player change? The Home or the Away team?"
   ]
  },
  {
   "cell_type": "code",
   "execution_count": 50,
   "metadata": {},
   "outputs": [
    {
     "name": "stdout",
     "output_type": "stream",
     "text": [
      "2.0\n",
      "2.9485530546623795\n",
      "2.0\n",
      "2.766192007349564\n"
     ]
    }
   ],
   "source": [
    "print(changes.PostVisTeamScore.median())\n",
    "print(changes.PostVisTeamScore.mean())\n",
    "print(changes.PostHomeTeamScore.median())\n",
    "print(changes.PostHomeTeamScore.mean())"
   ]
  },
  {
   "cell_type": "code",
   "execution_count": 73,
   "metadata": {},
   "outputs": [
    {
     "name": "stdout",
     "output_type": "stream",
     "text": [
      "Home team score difference:  -0.08940092165898618\n",
      "Away team score difference:  0.27472527472527475\n"
     ]
    }
   ],
   "source": [
    "Home=changes.loc[changes.home_away=='Home',:]\n",
    "Away=changes.loc[changes.home_away=='Away',:]\n",
    "\n",
    "print('Home team score difference: ', Home.score_diff.mean())\n",
    "print('Away team score difference: ', Away.score_diff.mean())"
   ]
  },
  {
   "cell_type": "markdown",
   "metadata": {},
   "source": [
    "The Home Away performs slightly worse at the time of change! Did they lasted more or less?"
   ]
  },
  {
   "cell_type": "code",
   "execution_count": 52,
   "metadata": {
    "scrolled": true
   },
   "outputs": [
    {
     "name": "stdout",
     "output_type": "stream",
     "text": [
      "Home plates appearances:  22.70138248847926\n",
      "Away plates appearances:  22.793040293040292\n"
     ]
    }
   ],
   "source": [
    "print('Home plates appearances: ', Home.pbp_idx.mean())\n",
    "print('Away plates appearances: ', Away.pbp_idx.mean())"
   ]
  },
  {
   "cell_type": "markdown",
   "metadata": {},
   "source": [
    "They performed almost the same."
   ]
  },
  {
   "cell_type": "code",
   "execution_count": 53,
   "metadata": {},
   "outputs": [
    {
     "data": {
      "text/html": [
       "<div>\n",
       "<style scoped>\n",
       "    .dataframe tbody tr th:only-of-type {\n",
       "        vertical-align: middle;\n",
       "    }\n",
       "\n",
       "    .dataframe tbody tr th {\n",
       "        vertical-align: top;\n",
       "    }\n",
       "\n",
       "    .dataframe thead th {\n",
       "        text-align: right;\n",
       "    }\n",
       "</style>\n",
       "<table border=\"1\" class=\"dataframe\">\n",
       "  <thead>\n",
       "    <tr style=\"text-align: right;\">\n",
       "      <th></th>\n",
       "      <th>start_id</th>\n",
       "      <th>pbp_idx</th>\n",
       "      <th>game_id</th>\n",
       "      <th>top_bot</th>\n",
       "      <th>inning</th>\n",
       "      <th>batter_stands</th>\n",
       "      <th>pitcher_id</th>\n",
       "      <th>throws</th>\n",
       "      <th>EventType</th>\n",
       "      <th>postouts</th>\n",
       "      <th>...</th>\n",
       "      <th>total_outs_recorded</th>\n",
       "      <th>total_bases_allowed</th>\n",
       "      <th>next_batter_hand</th>\n",
       "      <th>opposite_hand</th>\n",
       "      <th>end_of_inning</th>\n",
       "      <th>previously_walk</th>\n",
       "      <th>consec_walks</th>\n",
       "      <th>last_batter</th>\n",
       "      <th>inning_pa</th>\n",
       "      <th>double_header</th>\n",
       "    </tr>\n",
       "  </thead>\n",
       "  <tbody>\n",
       "    <tr>\n",
       "      <th>0</th>\n",
       "      <td>2019/04/01/anamlb-seamlb-1_433587</td>\n",
       "      <td>1</td>\n",
       "      <td>2019/04/01/anamlb-seamlb-1</td>\n",
       "      <td>Y</td>\n",
       "      <td>1</td>\n",
       "      <td>L</td>\n",
       "      <td>433587</td>\n",
       "      <td>R</td>\n",
       "      <td>field_out</td>\n",
       "      <td>1</td>\n",
       "      <td>...</td>\n",
       "      <td>0</td>\n",
       "      <td>0</td>\n",
       "      <td>R</td>\n",
       "      <td>0.0</td>\n",
       "      <td>0</td>\n",
       "      <td>0</td>\n",
       "      <td>0</td>\n",
       "      <td>0</td>\n",
       "      <td>1</td>\n",
       "      <td>1</td>\n",
       "    </tr>\n",
       "    <tr>\n",
       "      <th>1</th>\n",
       "      <td>2019/04/01/anamlb-seamlb-1_433587</td>\n",
       "      <td>2</td>\n",
       "      <td>2019/04/01/anamlb-seamlb-1</td>\n",
       "      <td>Y</td>\n",
       "      <td>1</td>\n",
       "      <td>R</td>\n",
       "      <td>433587</td>\n",
       "      <td>R</td>\n",
       "      <td>hit_by_pitch</td>\n",
       "      <td>1</td>\n",
       "      <td>...</td>\n",
       "      <td>1</td>\n",
       "      <td>0</td>\n",
       "      <td>L</td>\n",
       "      <td>1.0</td>\n",
       "      <td>0</td>\n",
       "      <td>0</td>\n",
       "      <td>0</td>\n",
       "      <td>0</td>\n",
       "      <td>2</td>\n",
       "      <td>1</td>\n",
       "    </tr>\n",
       "    <tr>\n",
       "      <th>2</th>\n",
       "      <td>2019/04/01/anamlb-seamlb-1_433587</td>\n",
       "      <td>3</td>\n",
       "      <td>2019/04/01/anamlb-seamlb-1</td>\n",
       "      <td>Y</td>\n",
       "      <td>1</td>\n",
       "      <td>L</td>\n",
       "      <td>433587</td>\n",
       "      <td>R</td>\n",
       "      <td>force_out</td>\n",
       "      <td>2</td>\n",
       "      <td>...</td>\n",
       "      <td>1</td>\n",
       "      <td>1</td>\n",
       "      <td>R</td>\n",
       "      <td>0.0</td>\n",
       "      <td>0</td>\n",
       "      <td>0</td>\n",
       "      <td>0</td>\n",
       "      <td>0</td>\n",
       "      <td>3</td>\n",
       "      <td>1</td>\n",
       "    </tr>\n",
       "    <tr>\n",
       "      <th>3</th>\n",
       "      <td>2019/04/01/anamlb-seamlb-1_433587</td>\n",
       "      <td>4</td>\n",
       "      <td>2019/04/01/anamlb-seamlb-1</td>\n",
       "      <td>Y</td>\n",
       "      <td>1</td>\n",
       "      <td>R</td>\n",
       "      <td>433587</td>\n",
       "      <td>R</td>\n",
       "      <td>field_out</td>\n",
       "      <td>3</td>\n",
       "      <td>...</td>\n",
       "      <td>2</td>\n",
       "      <td>1</td>\n",
       "      <td>R</td>\n",
       "      <td>0.0</td>\n",
       "      <td>1</td>\n",
       "      <td>0</td>\n",
       "      <td>0</td>\n",
       "      <td>0</td>\n",
       "      <td>4</td>\n",
       "      <td>1</td>\n",
       "    </tr>\n",
       "    <tr>\n",
       "      <th>4</th>\n",
       "      <td>2019/04/01/anamlb-seamlb-1_433587</td>\n",
       "      <td>5</td>\n",
       "      <td>2019/04/01/anamlb-seamlb-1</td>\n",
       "      <td>Y</td>\n",
       "      <td>2</td>\n",
       "      <td>R</td>\n",
       "      <td>433587</td>\n",
       "      <td>R</td>\n",
       "      <td>single</td>\n",
       "      <td>0</td>\n",
       "      <td>...</td>\n",
       "      <td>3</td>\n",
       "      <td>1</td>\n",
       "      <td>L</td>\n",
       "      <td>1.0</td>\n",
       "      <td>0</td>\n",
       "      <td>0</td>\n",
       "      <td>0</td>\n",
       "      <td>0</td>\n",
       "      <td>1</td>\n",
       "      <td>1</td>\n",
       "    </tr>\n",
       "  </tbody>\n",
       "</table>\n",
       "<p>5 rows × 32 columns</p>\n",
       "</div>"
      ],
      "text/plain": [
       "                            start_id  pbp_idx                     game_id  \\\n",
       "0  2019/04/01/anamlb-seamlb-1_433587        1  2019/04/01/anamlb-seamlb-1   \n",
       "1  2019/04/01/anamlb-seamlb-1_433587        2  2019/04/01/anamlb-seamlb-1   \n",
       "2  2019/04/01/anamlb-seamlb-1_433587        3  2019/04/01/anamlb-seamlb-1   \n",
       "3  2019/04/01/anamlb-seamlb-1_433587        4  2019/04/01/anamlb-seamlb-1   \n",
       "4  2019/04/01/anamlb-seamlb-1_433587        5  2019/04/01/anamlb-seamlb-1   \n",
       "\n",
       "  top_bot  inning batter_stands  pitcher_id throws     EventType  postouts  \\\n",
       "0       Y       1             L      433587      R     field_out         1   \n",
       "1       Y       1             R      433587      R  hit_by_pitch         1   \n",
       "2       Y       1             L      433587      R     force_out         2   \n",
       "3       Y       1             R      433587      R     field_out         3   \n",
       "4       Y       2             R      433587      R        single         0   \n",
       "\n",
       "   ...  total_outs_recorded  total_bases_allowed  next_batter_hand  \\\n",
       "0  ...                    0                    0                 R   \n",
       "1  ...                    1                    0                 L   \n",
       "2  ...                    1                    1                 R   \n",
       "3  ...                    2                    1                 R   \n",
       "4  ...                    3                    1                 L   \n",
       "\n",
       "   opposite_hand  end_of_inning previously_walk  consec_walks  last_batter  \\\n",
       "0            0.0              0               0             0            0   \n",
       "1            1.0              0               0             0            0   \n",
       "2            0.0              0               0             0            0   \n",
       "3            0.0              1               0             0            0   \n",
       "4            1.0              0               0             0            0   \n",
       "\n",
       "   inning_pa  double_header  \n",
       "0          1              1  \n",
       "1          2              1  \n",
       "2          3              1  \n",
       "3          4              1  \n",
       "4          1              1  \n",
       "\n",
       "[5 rows x 32 columns]"
      ]
     },
     "execution_count": 53,
     "metadata": {},
     "output_type": "execute_result"
    }
   ],
   "source": [
    "data.head()"
   ]
  },
  {
   "cell_type": "code",
   "execution_count": 54,
   "metadata": {},
   "outputs": [
    {
     "data": {
      "text/html": [
       "<div>\n",
       "<style scoped>\n",
       "    .dataframe tbody tr th:only-of-type {\n",
       "        vertical-align: middle;\n",
       "    }\n",
       "\n",
       "    .dataframe tbody tr th {\n",
       "        vertical-align: top;\n",
       "    }\n",
       "\n",
       "    .dataframe thead th {\n",
       "        text-align: right;\n",
       "    }\n",
       "</style>\n",
       "<table border=\"1\" class=\"dataframe\">\n",
       "  <thead>\n",
       "    <tr style=\"text-align: right;\">\n",
       "      <th>last_batter</th>\n",
       "      <th>0</th>\n",
       "      <th>1</th>\n",
       "      <th>All</th>\n",
       "      <th>percent</th>\n",
       "    </tr>\n",
       "    <tr>\n",
       "      <th>batter_order</th>\n",
       "      <th></th>\n",
       "      <th></th>\n",
       "      <th></th>\n",
       "      <th></th>\n",
       "    </tr>\n",
       "  </thead>\n",
       "  <tbody>\n",
       "    <tr>\n",
       "      <th>0</th>\n",
       "      <td>4235</td>\n",
       "      <td>237</td>\n",
       "      <td>4472</td>\n",
       "      <td>0.052996</td>\n",
       "    </tr>\n",
       "    <tr>\n",
       "      <th>1</th>\n",
       "      <td>6232</td>\n",
       "      <td>180</td>\n",
       "      <td>6412</td>\n",
       "      <td>0.028072</td>\n",
       "    </tr>\n",
       "    <tr>\n",
       "      <th>2</th>\n",
       "      <td>6016</td>\n",
       "      <td>216</td>\n",
       "      <td>6232</td>\n",
       "      <td>0.034660</td>\n",
       "    </tr>\n",
       "    <tr>\n",
       "      <th>3</th>\n",
       "      <td>5794</td>\n",
       "      <td>222</td>\n",
       "      <td>6016</td>\n",
       "      <td>0.036902</td>\n",
       "    </tr>\n",
       "    <tr>\n",
       "      <th>4</th>\n",
       "      <td>5570</td>\n",
       "      <td>224</td>\n",
       "      <td>5794</td>\n",
       "      <td>0.038661</td>\n",
       "    </tr>\n",
       "    <tr>\n",
       "      <th>5</th>\n",
       "      <td>5285</td>\n",
       "      <td>285</td>\n",
       "      <td>5570</td>\n",
       "      <td>0.051167</td>\n",
       "    </tr>\n",
       "    <tr>\n",
       "      <th>6</th>\n",
       "      <td>5011</td>\n",
       "      <td>274</td>\n",
       "      <td>5285</td>\n",
       "      <td>0.051845</td>\n",
       "    </tr>\n",
       "    <tr>\n",
       "      <th>7</th>\n",
       "      <td>4729</td>\n",
       "      <td>282</td>\n",
       "      <td>5011</td>\n",
       "      <td>0.056276</td>\n",
       "    </tr>\n",
       "    <tr>\n",
       "      <th>8</th>\n",
       "      <td>4472</td>\n",
       "      <td>257</td>\n",
       "      <td>4729</td>\n",
       "      <td>0.054346</td>\n",
       "    </tr>\n",
       "    <tr>\n",
       "      <th>All</th>\n",
       "      <td>47344</td>\n",
       "      <td>2177</td>\n",
       "      <td>49521</td>\n",
       "      <td>0.043961</td>\n",
       "    </tr>\n",
       "  </tbody>\n",
       "</table>\n",
       "</div>"
      ],
      "text/plain": [
       "last_batter       0     1    All   percent\n",
       "batter_order                              \n",
       "0              4235   237   4472  0.052996\n",
       "1              6232   180   6412  0.028072\n",
       "2              6016   216   6232  0.034660\n",
       "3              5794   222   6016  0.036902\n",
       "4              5570   224   5794  0.038661\n",
       "5              5285   285   5570  0.051167\n",
       "6              5011   274   5285  0.051845\n",
       "7              4729   282   5011  0.056276\n",
       "8              4472   257   4729  0.054346\n",
       "All           47344  2177  49521  0.043961"
      ]
     },
     "execution_count": 54,
     "metadata": {},
     "output_type": "execute_result"
    }
   ],
   "source": [
    "data['batter_order']=data['pbp_idx']%9\n",
    "batters=pd.crosstab(data.batter_order, data.last_batter, margins=True)\n",
    "batters['percent']=batters[1]/batters['All']\n",
    "batters"
   ]
  },
  {
   "cell_type": "markdown",
   "metadata": {},
   "source": [
    "There *is* a difference on change percentage between the different batter orders, so it will be interesting to include that variable. "
   ]
  },
  {
   "cell_type": "code",
   "execution_count": null,
   "metadata": {},
   "outputs": [],
   "source": []
  }
 ],
 "metadata": {
  "kernelspec": {
   "display_name": "Python 3",
   "language": "python",
   "name": "python3"
  },
  "language_info": {
   "codemirror_mode": {
    "name": "ipython",
    "version": 3
   },
   "file_extension": ".py",
   "mimetype": "text/x-python",
   "name": "python",
   "nbconvert_exporter": "python",
   "pygments_lexer": "ipython3",
   "version": "3.8.2"
  }
 },
 "nbformat": 4,
 "nbformat_minor": 4
}
