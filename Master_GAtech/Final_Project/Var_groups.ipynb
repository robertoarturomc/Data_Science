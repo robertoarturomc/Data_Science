{
 "cells": [
  {
   "cell_type": "code",
   "execution_count": 1,
   "metadata": {},
   "outputs": [],
   "source": [
    "vars=['start_id', 'pbp_idx', 'game_id', 'top_bot', 'inning', 'batter_stands',\n",
    "       'pitcher_id', 'throws', 'EventType', 'postouts', 'post_runner_on_first',\n",
    "       'post_runner_on_second', 'post_runner_on_third', 'PostVisTeamScore',\n",
    "       'PostHomeTeamScore', 'home_away', 'pitches_in_pa', 'pitch_total',\n",
    "       'er_total', 'runners_on_base', 'score_diff', 'tying_run_on',\n",
    "       'total_outs_recorded', 'total_bases_allowed', 'next_batter_hand',\n",
    "       'opposite_hand', 'end_of_inning', 'previously_walk', 'consec_walks',\n",
    "       'last_batter']"
   ]
  },
  {
   "cell_type": "code",
   "execution_count": 2,
   "metadata": {},
   "outputs": [],
   "source": [
    "ids=['start_id', 'pbp_idx', 'game_id', 'pitcher_id']"
   ]
  },
  {
   "cell_type": "code",
   "execution_count": 3,
   "metadata": {
    "scrolled": true
   },
   "outputs": [
    {
     "data": {
      "text/plain": [
       "['top_bot',\n",
       " 'inning',\n",
       " 'batter_stands',\n",
       " 'throws',\n",
       " 'EventType',\n",
       " 'postouts',\n",
       " 'post_runner_on_first',\n",
       " 'post_runner_on_second',\n",
       " 'post_runner_on_third',\n",
       " 'PostVisTeamScore',\n",
       " 'PostHomeTeamScore',\n",
       " 'home_away',\n",
       " 'pitches_in_pa',\n",
       " 'pitch_total',\n",
       " 'er_total',\n",
       " 'runners_on_base',\n",
       " 'score_diff',\n",
       " 'tying_run_on',\n",
       " 'total_outs_recorded',\n",
       " 'total_bases_allowed',\n",
       " 'next_batter_hand',\n",
       " 'opposite_hand',\n",
       " 'end_of_inning',\n",
       " 'previously_walk',\n",
       " 'consec_walks',\n",
       " 'last_batter']"
      ]
     },
     "execution_count": 3,
     "metadata": {},
     "output_type": "execute_result"
    }
   ],
   "source": [
    "vars2=vars.copy()\n",
    "for i in ids:\n",
    "    vars2.remove(i)\n",
    "vars2"
   ]
  },
  {
   "cell_type": "code",
   "execution_count": 4,
   "metadata": {},
   "outputs": [],
   "source": [
    "target='last_batter'\n",
    "target2=['last_batter', 'pitch_total']"
   ]
  },
  {
   "cell_type": "code",
   "execution_count": 5,
   "metadata": {},
   "outputs": [],
   "source": [
    "raw=['inning', 'batter_stands', 'throws', 'EventType', 'PostVisTeamScore', 'PostHomeTeamScore', 'home_away', 'pitches_in_pa', 'er_total', 'total_outs_recorded', 'total_bases_allowed', 'previously_walk']\n"
   ]
  },
  {
   "cell_type": "code",
   "execution_count": null,
   "metadata": {},
   "outputs": [],
   "source": []
  },
  {
   "cell_type": "code",
   "execution_count": null,
   "metadata": {},
   "outputs": [],
   "source": []
  }
 ],
 "metadata": {
  "kernelspec": {
   "display_name": "Python 3",
   "language": "python",
   "name": "python3"
  },
  "language_info": {
   "codemirror_mode": {
    "name": "ipython",
    "version": 3
   },
   "file_extension": ".py",
   "mimetype": "text/x-python",
   "name": "python",
   "nbconvert_exporter": "python",
   "pygments_lexer": "ipython3",
   "version": "3.7.3"
  }
 },
 "nbformat": 4,
 "nbformat_minor": 4
}
