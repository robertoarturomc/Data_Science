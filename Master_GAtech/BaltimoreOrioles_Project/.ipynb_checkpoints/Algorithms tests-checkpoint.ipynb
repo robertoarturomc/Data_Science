{
 "cells": [
  {
   "cell_type": "code",
   "execution_count": 124,
   "metadata": {},
   "outputs": [],
   "source": [
    "import pandas as pd\n",
    "import numpy as np\n",
    "from sklearn.model_selection import train_test_split\n",
    "from sklearn.linear_model import LogisticRegression, Lasso, LassoCV, LogisticRegressionCV\n",
    "from sklearn.metrics import accuracy_score, f1_score, precision_score, mean_squared_error, roc_auc_score\n",
    "from sklearn.feature_selection import RFE\n",
    "from itertools import combinations\n",
    "from sklearn.tree import DecisionTreeClassifier, export_text\n",
    "from sklearn.svm import SVC\n"
   ]
  },
  {
   "cell_type": "code",
   "execution_count": 125,
   "metadata": {},
   "outputs": [],
   "source": [
    "import statsmodels.api as sm"
   ]
  },
  {
   "cell_type": "code",
   "execution_count": 126,
   "metadata": {},
   "outputs": [
    {
     "name": "stdout",
     "output_type": "stream",
     "text": [
      "(4415, 69)\n",
      "(9880, 69)\n",
      "(4415,)\n",
      "(9880,)\n"
     ]
    }
   ],
   "source": [
    "X_train=pd.read_pickle('Datasets/X_train2.plk')\n",
    "X_test=pd.read_pickle('Datasets/X_test.plk')\n",
    "y_train=pd.read_pickle('Datasets/y_train2.plk')\n",
    "y_test=pd.read_pickle('Datasets/y_test.plk')\n",
    "\n",
    "print(X_train.shape)\n",
    "print(X_test.shape)\n",
    "print(y_train.shape)\n",
    "print(y_test.shape)"
   ]
  },
  {
   "cell_type": "code",
   "execution_count": 127,
   "metadata": {},
   "outputs": [],
   "source": [
    "X_train.drop('cum_bats_left', axis=1, inplace=True)\n",
    "X_test.drop('cum_bats_left', axis=1, inplace=True)\n",
    "\n",
    "X_train.drop('constant', axis=1, inplace=True)\n",
    "X_test.drop('constant', axis=1, inplace=True)"
   ]
  },
  {
   "cell_type": "markdown",
   "metadata": {},
   "source": [
    "Three algorithms were tested, to know if they are suitable for capturing the differences between the last plate apperances for the pitchers, and a \"normal\" plate appearance.\n",
    "They are simple algorithms, whose decision boundaries may be calculated by hand.\n",
    "\n",
    "Different parameters were randomly tested and all of the variables were used. Here, the \"best\" results are shown."
   ]
  },
  {
   "cell_type": "markdown",
   "metadata": {},
   "source": [
    "# Training the model"
   ]
  },
  {
   "cell_type": "markdown",
   "metadata": {},
   "source": [
    "### Logistic Regression"
   ]
  },
  {
   "cell_type": "code",
   "execution_count": 128,
   "metadata": {},
   "outputs": [
    {
     "data": {
      "text/plain": [
       "LogisticRegression(C=1.0, class_weight=None, dual=False, fit_intercept=True,\n",
       "                   intercept_scaling=1, l1_ratio=None, max_iter=10000,\n",
       "                   multi_class='auto', n_jobs=None, penalty='none',\n",
       "                   random_state=42, solver='lbfgs', tol=0.0001, verbose=0,\n",
       "                   warm_start=False)"
      ]
     },
     "execution_count": 128,
     "metadata": {},
     "output_type": "execute_result"
    }
   ],
   "source": [
    "lr=LogisticRegression(random_state=42, penalty='none', max_iter=10000)\n",
    "lr.fit(X_train, y_train)"
   ]
  },
  {
   "cell_type": "code",
   "execution_count": 129,
   "metadata": {},
   "outputs": [
    {
     "data": {
      "text/html": [
       "<div>\n",
       "<style scoped>\n",
       "    .dataframe tbody tr th:only-of-type {\n",
       "        vertical-align: middle;\n",
       "    }\n",
       "\n",
       "    .dataframe tbody tr th {\n",
       "        vertical-align: top;\n",
       "    }\n",
       "\n",
       "    .dataframe thead th {\n",
       "        text-align: right;\n",
       "    }\n",
       "</style>\n",
       "<table border=\"1\" class=\"dataframe\">\n",
       "  <thead>\n",
       "    <tr style=\"text-align: right;\">\n",
       "      <th>col_0</th>\n",
       "      <th>0</th>\n",
       "      <th>1</th>\n",
       "      <th>All</th>\n",
       "    </tr>\n",
       "    <tr>\n",
       "      <th>last_batter</th>\n",
       "      <th></th>\n",
       "      <th></th>\n",
       "      <th></th>\n",
       "    </tr>\n",
       "  </thead>\n",
       "  <tbody>\n",
       "    <tr>\n",
       "      <th>0</th>\n",
       "      <td>8354</td>\n",
       "      <td>1131</td>\n",
       "      <td>9485</td>\n",
       "    </tr>\n",
       "    <tr>\n",
       "      <th>1</th>\n",
       "      <td>58</td>\n",
       "      <td>337</td>\n",
       "      <td>395</td>\n",
       "    </tr>\n",
       "    <tr>\n",
       "      <th>All</th>\n",
       "      <td>8412</td>\n",
       "      <td>1468</td>\n",
       "      <td>9880</td>\n",
       "    </tr>\n",
       "  </tbody>\n",
       "</table>\n",
       "</div>"
      ],
      "text/plain": [
       "col_0           0     1   All\n",
       "last_batter                  \n",
       "0            8354  1131  9485\n",
       "1              58   337   395\n",
       "All          8412  1468  9880"
      ]
     },
     "execution_count": 129,
     "metadata": {},
     "output_type": "execute_result"
    }
   ],
   "source": [
    "y_pred=lr.predict(X_test)\n",
    "\n",
    "pd.crosstab(y_test, y_pred, margins=True)"
   ]
  },
  {
   "cell_type": "code",
   "execution_count": 130,
   "metadata": {},
   "outputs": [
    {
     "name": "stdout",
     "output_type": "stream",
     "text": [
      "0.8796558704453441\n",
      "0.2295640326975477\n",
      "0.8669618251336221\n",
      "0.36178207192699946\n"
     ]
    }
   ],
   "source": [
    "print( accuracy_score(y_test, (y_pred>0.5)+0 ))\n",
    "print( precision_score(y_test, (y_pred>0.5)+0 ))\n",
    "print( roc_auc_score(y_test, (y_pred>0.5)+0 ))\n",
    "print( f1_score(y_test, (y_pred>0.5)+0 ))"
   ]
  },
  {
   "cell_type": "markdown",
   "metadata": {},
   "source": [
    "### SVM "
   ]
  },
  {
   "cell_type": "code",
   "execution_count": 131,
   "metadata": {},
   "outputs": [
    {
     "data": {
      "text/plain": [
       "SVC(C=0.5, break_ties=False, cache_size=200, class_weight=None, coef0=0.0,\n",
       "    decision_function_shape='ovr', degree=3, gamma='scale', kernel='linear',\n",
       "    max_iter=-1, probability=False, random_state=None, shrinking=True,\n",
       "    tol=0.001, verbose=False)"
      ]
     },
     "execution_count": 131,
     "metadata": {},
     "output_type": "execute_result"
    }
   ],
   "source": [
    "svm=SVC(kernel='linear', C=0.5)\n",
    "svm.fit(X_train, y_train)"
   ]
  },
  {
   "cell_type": "code",
   "execution_count": 132,
   "metadata": {},
   "outputs": [
    {
     "data": {
      "text/html": [
       "<div>\n",
       "<style scoped>\n",
       "    .dataframe tbody tr th:only-of-type {\n",
       "        vertical-align: middle;\n",
       "    }\n",
       "\n",
       "    .dataframe tbody tr th {\n",
       "        vertical-align: top;\n",
       "    }\n",
       "\n",
       "    .dataframe thead th {\n",
       "        text-align: right;\n",
       "    }\n",
       "</style>\n",
       "<table border=\"1\" class=\"dataframe\">\n",
       "  <thead>\n",
       "    <tr style=\"text-align: right;\">\n",
       "      <th>col_0</th>\n",
       "      <th>0</th>\n",
       "      <th>1</th>\n",
       "      <th>All</th>\n",
       "    </tr>\n",
       "    <tr>\n",
       "      <th>last_batter</th>\n",
       "      <th></th>\n",
       "      <th></th>\n",
       "      <th></th>\n",
       "    </tr>\n",
       "  </thead>\n",
       "  <tbody>\n",
       "    <tr>\n",
       "      <th>0</th>\n",
       "      <td>8325</td>\n",
       "      <td>1160</td>\n",
       "      <td>9485</td>\n",
       "    </tr>\n",
       "    <tr>\n",
       "      <th>1</th>\n",
       "      <td>56</td>\n",
       "      <td>339</td>\n",
       "      <td>395</td>\n",
       "    </tr>\n",
       "    <tr>\n",
       "      <th>All</th>\n",
       "      <td>8381</td>\n",
       "      <td>1499</td>\n",
       "      <td>9880</td>\n",
       "    </tr>\n",
       "  </tbody>\n",
       "</table>\n",
       "</div>"
      ],
      "text/plain": [
       "col_0           0     1   All\n",
       "last_batter                  \n",
       "0            8325  1160  9485\n",
       "1              56   339   395\n",
       "All          8381  1499  9880"
      ]
     },
     "execution_count": 132,
     "metadata": {},
     "output_type": "execute_result"
    }
   ],
   "source": [
    "y_pred2=svm.predict(X_test)\n",
    "\n",
    "pd.crosstab(y_test, np.round(y_pred2,0), margins=True)"
   ]
  },
  {
   "cell_type": "code",
   "execution_count": 133,
   "metadata": {},
   "outputs": [
    {
     "name": "stdout",
     "output_type": "stream",
     "text": [
      "0.8769230769230769\n",
      "0.22615076717811874\n",
      "0.8679647411302324\n",
      "0.3579725448785639\n"
     ]
    }
   ],
   "source": [
    "print( accuracy_score(y_test, (y_pred2>0.5)+0 ))\n",
    "print( precision_score(y_test, (y_pred2>0.5)+0 ))\n",
    "print( roc_auc_score(y_test, (y_pred2>0.5)+0 ))\n",
    "print( f1_score(y_test, (y_pred2>0.5)+0 ))"
   ]
  },
  {
   "cell_type": "markdown",
   "metadata": {},
   "source": [
    "### Tree"
   ]
  },
  {
   "cell_type": "code",
   "execution_count": 134,
   "metadata": {},
   "outputs": [
    {
     "data": {
      "text/plain": [
       "DecisionTreeClassifier(ccp_alpha=0.0, class_weight=None, criterion='gini',\n",
       "                       max_depth=3, max_features=None, max_leaf_nodes=None,\n",
       "                       min_impurity_decrease=0.0, min_impurity_split=None,\n",
       "                       min_samples_leaf=1, min_samples_split=2,\n",
       "                       min_weight_fraction_leaf=0.0, presort='deprecated',\n",
       "                       random_state=None, splitter='best')"
      ]
     },
     "execution_count": 134,
     "metadata": {},
     "output_type": "execute_result"
    }
   ],
   "source": [
    "tree=DecisionTreeClassifier(max_depth=3)#, criterion='gini', random_state=42)\n",
    "tree.fit(X_train, y_train)\n",
    "\n",
    "## ¡¡VOLVER A ENCONTRAR DATOS QUE PRODUCEN F1=40!!!\n",
    "## ¡¡GUARDAR ESE MODELO!!"
   ]
  },
  {
   "cell_type": "code",
   "execution_count": 135,
   "metadata": {},
   "outputs": [
    {
     "data": {
      "text/html": [
       "<div>\n",
       "<style scoped>\n",
       "    .dataframe tbody tr th:only-of-type {\n",
       "        vertical-align: middle;\n",
       "    }\n",
       "\n",
       "    .dataframe tbody tr th {\n",
       "        vertical-align: top;\n",
       "    }\n",
       "\n",
       "    .dataframe thead th {\n",
       "        text-align: right;\n",
       "    }\n",
       "</style>\n",
       "<table border=\"1\" class=\"dataframe\">\n",
       "  <thead>\n",
       "    <tr style=\"text-align: right;\">\n",
       "      <th>col_0</th>\n",
       "      <th>0</th>\n",
       "      <th>1</th>\n",
       "      <th>All</th>\n",
       "    </tr>\n",
       "    <tr>\n",
       "      <th>last_batter</th>\n",
       "      <th></th>\n",
       "      <th></th>\n",
       "      <th></th>\n",
       "    </tr>\n",
       "  </thead>\n",
       "  <tbody>\n",
       "    <tr>\n",
       "      <th>0</th>\n",
       "      <td>7957</td>\n",
       "      <td>1528</td>\n",
       "      <td>9485</td>\n",
       "    </tr>\n",
       "    <tr>\n",
       "      <th>1</th>\n",
       "      <td>51</td>\n",
       "      <td>344</td>\n",
       "      <td>395</td>\n",
       "    </tr>\n",
       "    <tr>\n",
       "      <th>All</th>\n",
       "      <td>8008</td>\n",
       "      <td>1872</td>\n",
       "      <td>9880</td>\n",
       "    </tr>\n",
       "  </tbody>\n",
       "</table>\n",
       "</div>"
      ],
      "text/plain": [
       "col_0           0     1   All\n",
       "last_batter                  \n",
       "0            7957  1528  9485\n",
       "1              51   344   395\n",
       "All          8008  1872  9880"
      ]
     },
     "execution_count": 135,
     "metadata": {},
     "output_type": "execute_result"
    }
   ],
   "source": [
    "y_pred3=tree.predict(X_test)\n",
    "\n",
    "pd.crosstab(y_test, (y_pred3>0.5)+0, margins=True)"
   ]
  },
  {
   "cell_type": "code",
   "execution_count": 136,
   "metadata": {},
   "outputs": [
    {
     "name": "stdout",
     "output_type": "stream",
     "text": [
      "0.8401821862348178\n",
      "0.18376068376068377\n",
      "0.8548948039209144\n",
      "0.30348478164975745\n"
     ]
    }
   ],
   "source": [
    "print( accuracy_score(y_test, (y_pred3>0.5)+0 ))\n",
    "print( precision_score(y_test, (y_pred3>0.5)+0 ))\n",
    "print( roc_auc_score(y_test, (y_pred3>0.5)+0 ))\n",
    "print( f1_score(y_test, (y_pred3>0.5)+0 ))"
   ]
  },
  {
   "cell_type": "code",
   "execution_count": 137,
   "metadata": {},
   "outputs": [
    {
     "data": {
      "text/plain": [
       "Index(['pbp_idx', 'end_of_inning', 'field_out', 'inning_cum_bats_left',\n",
       "       'cum_points_allowed'],\n",
       "      dtype='object')"
      ]
     },
     "execution_count": 137,
     "metadata": {},
     "output_type": "execute_result"
    }
   ],
   "source": [
    "X_train.columns[tree.feature_importances_>0]"
   ]
  },
  {
   "cell_type": "markdown",
   "metadata": {},
   "source": [
    "The three algorithms performed similar. In particular, the SVM and the Logistic Regression had a similar prediction on the testing set. That was expected, as they both aim to generate the best “hyperplane” that separates the two classes. However, the logistic regression runs noticeably faster, and has a more concise formula to determine the decision boundary. Therefore, it will be chosen over the SVM with a linear kernel.\n",
    "\n",
    "On the other hand, the Decision Tree performed slightly better on most of the metrics while using less variables. That is because the maximum depth was set at four. Thus, the Decision Tree will be used as a base model, while we attempt to have a better model by using a Logistic Regression. \n"
   ]
  },
  {
   "cell_type": "code",
   "execution_count": 138,
   "metadata": {},
   "outputs": [
    {
     "name": "stdout",
     "output_type": "stream",
     "text": [
      "|--- pbp_idx <= 18.50\n",
      "|   |--- cum_points_allowed <= 4.50\n",
      "|   |   |--- pbp_idx <= 11.50\n",
      "|   |   |   |--- class: 0\n",
      "|   |   |--- pbp_idx >  11.50\n",
      "|   |   |   |--- class: 0\n",
      "|   |--- cum_points_allowed >  4.50\n",
      "|   |   |--- inning_cum_bats_left <= 0.50\n",
      "|   |   |   |--- class: 0\n",
      "|   |   |--- inning_cum_bats_left >  0.50\n",
      "|   |   |   |--- class: 1\n",
      "|--- pbp_idx >  18.50\n",
      "|   |--- end_of_inning <= 0.50\n",
      "|   |   |--- field_out <= 0.50\n",
      "|   |   |   |--- class: 1\n",
      "|   |   |--- field_out >  0.50\n",
      "|   |   |   |--- class: 0\n",
      "|   |--- end_of_inning >  0.50\n",
      "|   |   |--- pbp_idx <= 20.50\n",
      "|   |   |   |--- class: 1\n",
      "|   |   |--- pbp_idx >  20.50\n",
      "|   |   |   |--- class: 1\n",
      "\n"
     ]
    }
   ],
   "source": [
    "print( export_text(tree,  feature_names=X_train.columns.tolist()) )"
   ]
  },
  {
   "cell_type": "code",
   "execution_count": null,
   "metadata": {},
   "outputs": [],
   "source": []
  }
 ],
 "metadata": {
  "kernelspec": {
   "display_name": "Python 3",
   "language": "python",
   "name": "python3"
  }
 },
 "nbformat": 4,
 "nbformat_minor": 4
}
