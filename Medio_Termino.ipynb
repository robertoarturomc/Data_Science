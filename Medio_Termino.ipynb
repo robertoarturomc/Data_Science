{
  "nbformat": 4,
  "nbformat_minor": 0,
  "metadata": {
    "colab": {
      "provenance": [],
      "include_colab_link": true
    },
    "kernelspec": {
      "name": "python3",
      "display_name": "Python 3"
    },
    "language_info": {
      "name": "python"
    }
  },
  "cells": [
    {
      "cell_type": "markdown",
      "metadata": {
        "id": "view-in-github",
        "colab_type": "text"
      },
      "source": [
        "<a href=\"https://colab.research.google.com/github/robertoarturomc/Data_Science/blob/master/Medio_Termino.ipynb\" target=\"_parent\"><img src=\"https://colab.research.google.com/assets/colab-badge.svg\" alt=\"Open In Colab\"/></a>"
      ]
    },
    {
      "cell_type": "markdown",
      "source": [
        "### Programación de la Información\n",
        "# Examen de Medio Término\n",
        "\n",
        "Lee con detenimiento y contesta lo que se te solicita. Antes de finalizar, sube tu archivo en formato .ipynb al espacio correspondiente en Brightspace.\n",
        "\n",
        "Cada ejercicio tiene el mismo peso.\n",
        "\n",
        "¡Mucho éxito, y que la suerte esté siempre de su lado!"
      ],
      "metadata": {
        "id": "ir-Zol7bgxmo"
      }
    },
    {
      "cell_type": "markdown",
      "source": [
        "## 1. Estructuras de Datos.\n",
        "Corre las siguientes celdas sin cambiar nada. A continuacion, contesta lo que se te pide."
      ],
      "metadata": {
        "id": "zLpe1rH1qRV4"
      }
    },
    {
      "cell_type": "code",
      "source": [
        "# Ocuparemos estos paquetes para descargar nuestra información\n",
        "import requests\n",
        "import json"
      ],
      "metadata": {
        "id": "g9WozWt8iu8b"
      },
      "execution_count": null,
      "outputs": []
    },
    {
      "cell_type": "code",
      "source": [
        "# Si ves la documentación de OMDB, veras que ?t= se ocupa para buscar por título\n",
        "url = \"http://www.omdbapi.com/?&apikey=trilogy&t=\""
      ],
      "metadata": {
        "id": "Jzj9Qh0ZivUD"
      },
      "execution_count": null,
      "outputs": []
    },
    {
      "cell_type": "markdown",
      "source": [
        "a) Cambia el valor que toma *title* por el de tu película favorita, y observa como se crea un diccionario llamado *movie*...¡que contiene información sobre tu pelicula!"
      ],
      "metadata": {
        "id": "1OapwlzUsmxT"
      }
    },
    {
      "cell_type": "code",
      "source": [
        "title = \"Into the Spider-Verse\"\n",
        "movie = requests.get(url + title).json()\n",
        "movie"
      ],
      "metadata": {
        "colab": {
          "base_uri": "https://localhost:8080/"
        },
        "id": "T-YGkEVMsgR-",
        "outputId": "e99485a2-b2d4-45f5-b73a-bab9ef78e9d2"
      },
      "execution_count": null,
      "outputs": [
        {
          "output_type": "execute_result",
          "data": {
            "text/plain": [
              "{'Title': 'Spider-Man: Into the Spider-Verse',\n",
              " 'Year': '2018',\n",
              " 'Rated': 'PG',\n",
              " 'Released': '14 Dec 2018',\n",
              " 'Runtime': '31S min',\n",
              " 'Genre': 'Animation, Action, Adventure',\n",
              " 'Director': 'Bob Persichetti, Peter Ramsey, Rodney Rothman',\n",
              " 'Writer': 'Phil Lord, Rodney Rothman',\n",
              " 'Actors': 'Shameik Moore, Jake Johnson, Hailee Steinfeld',\n",
              " 'Plot': 'Teen Miles Morales becomes the Spider-Man of his universe, and must join with five spider-powered individuals from other dimensions to stop a threat for all realities.',\n",
              " 'Language': 'English, Spanish',\n",
              " 'Country': 'United States',\n",
              " 'Awards': 'Won 1 Oscar. 82 wins & 57 nominations total',\n",
              " 'Poster': 'https://m.media-amazon.com/images/M/MV5BMjMwNDkxMTgzOF5BMl5BanBnXkFtZTgwNTkwNTQ3NjM@._V1_SX300.jpg',\n",
              " 'Ratings': [{'Source': 'Internet Movie Database', 'Value': '8.4/10'},\n",
              "  {'Source': 'Rotten Tomatoes', 'Value': '97%'},\n",
              "  {'Source': 'Metacritic', 'Value': '87/100'}],\n",
              " 'Metascore': '87',\n",
              " 'imdbRating': '8.4',\n",
              " 'imdbVotes': '511,493',\n",
              " 'imdbID': 'tt4633694',\n",
              " 'Type': 'movie',\n",
              " 'DVD': '19 Mar 2019',\n",
              " 'BoxOffice': '$190,241,310',\n",
              " 'Production': 'N/A',\n",
              " 'Website': 'N/A',\n",
              " 'Response': 'True'}"
            ]
          },
          "metadata": {},
          "execution_count": 13
        }
      ]
    },
    {
      "cell_type": "markdown",
      "source": [
        "b) Imprime las llaves del diccionario *movie*"
      ],
      "metadata": {
        "id": "48vY1mnHu0rV"
      }
    },
    {
      "cell_type": "code",
      "source": [],
      "metadata": {
        "id": "Pja7l1_qsg_B"
      },
      "execution_count": null,
      "outputs": []
    },
    {
      "cell_type": "markdown",
      "source": [
        "c) Filtra, usando código, la fecha en la que se estreno la película."
      ],
      "metadata": {
        "id": "LKUInDUvxJRg"
      }
    },
    {
      "cell_type": "code",
      "source": [],
      "metadata": {
        "id": "-J4Pq3tExfC_"
      },
      "execution_count": null,
      "outputs": []
    },
    {
      "cell_type": "markdown",
      "source": [
        "d) Crea manualmente una lista con los _Ratings_ disponibles (de Internet Movie Database, Rotten Tomatoes, Metacritic...). Los valores numéricos deberan estar en escala de 0 a 100. Guárdala con el nombre *calificaciones*\n",
        "\n",
        "(Si tu pelicula no tiene _Ratings_, repite el paso a), pero probando con otro titulo)."
      ],
      "metadata": {
        "id": "VdYVGyN8wI8p"
      }
    },
    {
      "cell_type": "code",
      "source": [],
      "metadata": {
        "id": "EJPs5Zcmu9uo"
      },
      "execution_count": null,
      "outputs": []
    },
    {
      "cell_type": "markdown",
      "source": [
        "e) Crea una lista, llamada *tercio*. Guarda en ella los valores de *calificaciones*, pero divididos entre tres.\n",
        "\n",
        "Tip: ¿Qué tenías que hacer cuando querías hacer cálculos con una lista?"
      ],
      "metadata": {
        "id": "PqCt48-PxhI3"
      }
    },
    {
      "cell_type": "code",
      "source": [],
      "metadata": {
        "id": "OwL8NRD9x8C7"
      },
      "execution_count": null,
      "outputs": []
    },
    {
      "cell_type": "markdown",
      "source": [
        "f) Calcula, sin usar directamente los valores, el promedio de las calificaciones disponibles."
      ],
      "metadata": {
        "id": "e_bft9p4yA2A"
      }
    },
    {
      "cell_type": "code",
      "source": [],
      "metadata": {
        "id": "ISzYdr1nyiVO"
      },
      "execution_count": null,
      "outputs": []
    },
    {
      "cell_type": "markdown",
      "source": [
        "g) Elimina \"Plot\" de tu diccionario *movie*. "
      ],
      "metadata": {
        "id": "zilbQiVZyvtS"
      }
    },
    {
      "cell_type": "code",
      "source": [],
      "metadata": {
        "id": "MetUDcq_y3Pa"
      },
      "execution_count": null,
      "outputs": []
    },
    {
      "cell_type": "markdown",
      "source": [
        "h) Eleva al cubo el primer elemento de *calificaciones*"
      ],
      "metadata": {
        "id": "nI6HiNM8QWsx"
      }
    },
    {
      "cell_type": "code",
      "source": [],
      "metadata": {
        "id": "nP0he4uCQSam"
      },
      "execution_count": null,
      "outputs": []
    },
    {
      "cell_type": "markdown",
      "source": [
        "i) Escribe la siguiente condicional:\n",
        "* Si el promedio de calificación - el resultado de f) - es mayor o igual a 80, imprime \"Excelente crítica\".  \n",
        "* Si es menor, pero mayor o igual que 60, imprime \"Película palomera\"\n",
        "* En los demas casos, imprime \"Película chafa\".\n"
      ],
      "metadata": {
        "id": "bnJR5qWzQ_h3"
      }
    },
    {
      "cell_type": "code",
      "source": [],
      "metadata": {
        "id": "IuTMUIVsSZqm"
      },
      "execution_count": null,
      "outputs": []
    },
    {
      "cell_type": "markdown",
      "source": [
        "2. Explica, en forma de comentario, algunas de las desventajas que hayas observado hasta el momento sobre Python."
      ],
      "metadata": {
        "id": "VLE-s2liShIX"
      }
    },
    {
      "cell_type": "code",
      "source": [],
      "metadata": {
        "id": "UwXJsL2YX1wi"
      },
      "execution_count": null,
      "outputs": []
    },
    {
      "cell_type": "markdown",
      "source": [
        "# Bonus! (+0.2 cada una)\n",
        "Comenta las lineas de codigo que tengan algun error (no las corrijas!), y explica brevemente cual es el error."
      ],
      "metadata": {
        "id": "844cl62JVXHa"
      }
    },
    {
      "cell_type": "code",
      "source": [
        "x = (0, 0, 7)\n",
        "x 2 = []\n",
        "x.append(1)\n",
        "\n",
        "y = \"x\" + 5\n",
        "\n",
        "if len(x) = 3:\n",
        "  print(\"Hay tres elementos\")\n",
        "\n",
        "if x[2] < 10:\n",
        "  if x[2] > 5:\n",
        "    print(\"x[2] es menor que 10 & mayor que que 5\")\n",
        "  elif x[2] == 5:\n",
        "    print(\"x[2] igual a 5\")\n",
        "  else\n",
        "    print(\"x[2] es menor a 5\")"
      ],
      "metadata": {
        "id": "RHyyIdrpXkMm"
      },
      "execution_count": null,
      "outputs": []
    },
    {
      "cell_type": "code",
      "source": [],
      "metadata": {
        "id": "slbR347wWTWc"
      },
      "execution_count": null,
      "outputs": []
    }
  ]
}